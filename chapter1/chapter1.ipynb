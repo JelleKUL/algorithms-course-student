{
 "cells": [
  {
   "cell_type": "markdown",
   "metadata": {},
   "source": [
    "# Chapter 1: Introduction to python\n",
    "\n",
    "In order to acces extra functionalities from external libraries, you need to iport them. These imports should be done at the start of the file to get a good overview of which packages are imported. Run the code below to import the packages:"
   ]
  },
  {
   "cell_type": "code",
   "execution_count": null,
   "metadata": {},
   "outputs": [],
   "source": [
    "# We use the 'as' keyword to rename the imports to shorter words so we have to write less in the code.\n",
    "import matplotlib.pyplot as plt\n",
    "import numpy as np\n",
    "import plotly.express as px\n",
    "import math"
   ]
  },
  {
   "cell_type": "markdown",
   "metadata": {},
   "source": [
    "## 1.3 Working with vectors and matrices"
   ]
  },
  {
   "cell_type": "markdown",
   "metadata": {},
   "source": [
    "### 1.3.1 Scalars and vectors"
   ]
  },
  {
   "cell_type": "code",
   "execution_count": null,
   "metadata": {},
   "outputs": [],
   "source": [
    "# Create a new variable x\n",
    "\n",
    "\n",
    "# Add 12 to a new array y\n",
    "\n",
    "\n",
    "# determine the length of the vector\n",
    "\n",
    "\n",
    "# sum of the elements\n",
    "\n",
    "\n",
    "# the min of the sin of the elements\n",
    "\n",
    "\n",
    "# The sum of elements 4 to 10\n",
    "\n",
    "\n",
    "# make vector z\n",
    "\n",
    "\n",
    "# Cummulative sums of z\n",
    "\n",
    "\n",
    "# Calculate the formula\n"
   ]
  },
  {
   "cell_type": "markdown",
   "metadata": {},
   "source": [
    "### 1.3.2 Matrices"
   ]
  },
  {
   "cell_type": "markdown",
   "metadata": {},
   "source": [
    "#### Question 1: Random Matrix"
   ]
  },
  {
   "cell_type": "code",
   "execution_count": null,
   "metadata": {},
   "outputs": [],
   "source": [
    "# Make matrix A\n",
    "\n",
    "\n",
    "# Make matrix B\n"
   ]
  },
  {
   "cell_type": "markdown",
   "metadata": {},
   "source": [
    "#### Question 2: Rotation Matrix"
   ]
  },
  {
   "cell_type": "code",
   "execution_count": null,
   "metadata": {},
   "outputs": [],
   "source": [
    "# 10° matrix\n",
    "\n",
    "\n",
    "# 45° matrix\n",
    "\n",
    "\n",
    "# 60° matrix\n",
    "\n",
    "\n",
    "# Rotate point\n",
    "\n",
    "\n",
    "# Determinant\n",
    "\n",
    "\n",
    "# Inverse\n",
    "\n"
   ]
  },
  {
   "cell_type": "markdown",
   "metadata": {},
   "source": [
    "#### Question 3: Systems"
   ]
  },
  {
   "cell_type": "code",
   "execution_count": null,
   "metadata": {},
   "outputs": [],
   "source": [
    "\n"
   ]
  },
  {
   "cell_type": "markdown",
   "metadata": {},
   "source": [
    "## 1.4 Functions"
   ]
  },
  {
   "cell_type": "markdown",
   "metadata": {},
   "source": [
    "### 1.4.1 Question 1: Some Simple Functions"
   ]
  },
  {
   "cell_type": "code",
   "execution_count": null,
   "metadata": {},
   "outputs": [],
   "source": [
    "# Function celcius_to_farenheit\n",
    "def celcius_to_farenheit(celcius):\n",
    "    \n",
    "    # Add your conversion code here\n",
    "\n",
    "    return # the farenheit value"
   ]
  },
  {
   "cell_type": "code",
   "execution_count": null,
   "metadata": {},
   "outputs": [],
   "source": [
    "# Check the results\n",
    "print(celcius_to_farenheit(0))\n",
    "print(celcius_to_farenheit(20))\n",
    "print(celcius_to_farenheit(37))\n",
    "print(celcius_to_farenheit(100))"
   ]
  },
  {
   "cell_type": "code",
   "execution_count": null,
   "metadata": {},
   "outputs": [],
   "source": [
    "# Absolute function\n"
   ]
  },
  {
   "cell_type": "code",
   "execution_count": null,
   "metadata": {},
   "outputs": [],
   "source": [
    "# Validate the results\n"
   ]
  },
  {
   "cell_type": "code",
   "execution_count": null,
   "metadata": {},
   "outputs": [],
   "source": [
    "# Swap function\n"
   ]
  },
  {
   "cell_type": "code",
   "execution_count": null,
   "metadata": {},
   "outputs": [],
   "source": [
    "# Validate the results\n"
   ]
  },
  {
   "cell_type": "markdown",
   "metadata": {},
   "source": [
    "### 1.4.2 Question 2: Distances and included angles of a triangle"
   ]
  },
  {
   "cell_type": "code",
   "execution_count": null,
   "metadata": {},
   "outputs": [],
   "source": [
    "# Solve triangle function"
   ]
  },
  {
   "cell_type": "code",
   "execution_count": null,
   "metadata": {},
   "outputs": [],
   "source": [
    "# Validate the results\n"
   ]
  },
  {
   "cell_type": "markdown",
   "metadata": {},
   "source": [
    "## 1.5 Control Structures"
   ]
  },
  {
   "cell_type": "markdown",
   "metadata": {},
   "source": [
    "### 1.5.1 Question 1: Fibbonacci"
   ]
  },
  {
   "cell_type": "code",
   "execution_count": null,
   "metadata": {},
   "outputs": [],
   "source": [
    "# Fibbonacci function\n"
   ]
  },
  {
   "cell_type": "code",
   "execution_count": null,
   "metadata": {},
   "outputs": [],
   "source": [
    "# Validate the results\n"
   ]
  },
  {
   "cell_type": "markdown",
   "metadata": {},
   "source": [
    "### 1.5.2 Question 2: Did I pass?"
   ]
  },
  {
   "cell_type": "code",
   "execution_count": null,
   "metadata": {},
   "outputs": [],
   "source": [
    "# Passed function\n"
   ]
  },
  {
   "cell_type": "code",
   "execution_count": null,
   "metadata": {},
   "outputs": [],
   "source": [
    "# Validate the results\n"
   ]
  },
  {
   "cell_type": "markdown",
   "metadata": {},
   "source": [
    "## 1.6 Plot"
   ]
  },
  {
   "cell_type": "markdown",
   "metadata": {},
   "source": [
    "2D-plots worden meestal gemaakt door x- en y-coördinaten op te geven. \n",
    "Matplotlib verbindt de ingevoerde punten met lijnen om continue curve te simuleren.\n",
    "\n",
    "Een reeks x-waarden worden meestal gegenereed mbv np.linspace functie (zie api)\n",
    "\n",
    "Bijhorende array van y-waarden wordt dan berekend met de x-waarden als input\n",
    "\n",
    "Zie het voorbeeld hieronder:"
   ]
  },
  {
   "cell_type": "code",
   "execution_count": null,
   "metadata": {},
   "outputs": [],
   "source": [
    "import matplotlib.pyplot as plt\n",
    "import numpy as np\n",
    "\n",
    "# np.linspace maakt een array van 200 waarden evenredig verdeeld tussen [0,2*pi]\n",
    "x = np.linspace(0, 2 * np.pi, 200)\n",
    "# y is hier ook een array van 200 getallen (nl. de sinus van x)\n",
    "y = np.sin(x)\n",
    "\n",
    "#basis plot syntax; bekijk de api documentatie voor de functie subplots en de return values\n",
    "fig, ax = plt.subplots()\n",
    "ax.plot(x, y)\n",
    "\n",
    "#laatste output wordt hieronder weergegeven\n",
    "plt.ylabel('Scores')\n",
    "plt.title('sinus')\n",
    "plt.show()"
   ]
  },
  {
   "cell_type": "markdown",
   "metadata": {},
   "source": [
    "### 1.7.3 Opgave 1: Amerikaanse bevolking\n",
    "\n",
    "Het Amerikaanse bevolkingscijfer kan gemodelleerd worden in de tijd a.d.h.v. een bepaalde functie.\n",
    "Enkele stappen:\n",
    "\n",
    "    - bepaal je x-waarden (van 1790 tem 2025)\n",
    "    - bepaal de bijhorende y-waarden (tip definieer de functie zoals gegeven in de opdracht en gebruik deze in je code)\n",
    "    - plot deze functie\n",
    "\n",
    "    - vervolgens voeg je de extra gevraagde zaken toe. functie hit (axes = return value van plt.subplots()):\n",
    "        - axes.set_xlabel\n",
    "        - axes.axvline\n",
    "        - axes.set_xticks\n",
    "        - 'markevery' optional argument bij de functie ax.plot"
   ]
  },
  {
   "cell_type": "code",
   "execution_count": null,
   "metadata": {},
   "outputs": [],
   "source": [
    "def predict_population(year):\n",
    "    return #functie"
   ]
  },
  {
   "cell_type": "code",
   "execution_count": null,
   "metadata": {},
   "outputs": [],
   "source": []
  },
  {
   "cell_type": "markdown",
   "metadata": {},
   "source": [
    "### 1.7.2 Opgave 2 : Combineer gegevens\n",
    "\n",
    "Matplotlab laat ook toe om figuren naast en onder elkaar te schikken om zo tot een mooie layout\n",
    "te komen. Bekijk de functie subplot voor meer informatie. In deze oefening maak je gebruik van\n",
    "deze functionaliteit en zal je verschillende grafiektypes gebruiken."
   ]
  },
  {
   "cell_type": "code",
   "execution_count": null,
   "metadata": {},
   "outputs": [],
   "source": [
    "#uitlezen data\n",
    "fcdata = np.genfromtxt(\"faalkosten_FCdata.txt\",delimiter = ',')\n",
    "fcmateriaal = np.genfromtxt(\"faalkosten_materiaal.txt\",delimiter = ',')/1000\n",
    "fcplaatsing = np.genfromtxt(\"faalkosten_plaatsing.txt\",delimiter = ',')/1000\n",
    "fctechnieken = np.genfromtxt(\"faalkosten_technieken.txt\",delimiter = ',')/1000\n",
    "\n",
    "fig1=plt.figure()\n",
    "\n",
    "\n"
   ]
  },
  {
   "cell_type": "markdown",
   "metadata": {},
   "source": [
    "### 1.7.3 Opgave 3 : Plotten in 3D\n",
    "In Geomaticatoepassingen kom je regelmatig in contact met 3D data. Een typisch voorbeeld\n",
    "daarvan is een digitale hoogtekaart of -model (DEM) dat bijvoorbeeld aangemaakt wordt met\n",
    "behulp van luchtlaserscanning. Matlab beschikt ook hier over interessante functionaliteit om\n",
    "deze data te behandelen en te visualiseren\n",
    "\n",
    "Tips contour plot:\n",
    "    - axes.contour()\n",
    "    - axes.clabel()\n",
    "    - fig.colorbar()"
   ]
  },
  {
   "cell_type": "code",
   "execution_count": null,
   "metadata": {},
   "outputs": [],
   "source": [
    "#3D Surface plot\n"
   ]
  },
  {
   "cell_type": "code",
   "execution_count": null,
   "metadata": {},
   "outputs": [],
   "source": [
    "# Coloured DEM Plot\n"
   ]
  },
  {
   "cell_type": "code",
   "execution_count": null,
   "metadata": {},
   "outputs": [],
   "source": [
    "#100m Contour Line\n"
   ]
  },
  {
   "cell_type": "code",
   "execution_count": null,
   "metadata": {},
   "outputs": [],
   "source": [
    "# Countour line + values\n"
   ]
  }
 ],
 "metadata": {
  "kernelspec": {
   "display_name": "Python 3.9.13 ('env': venv)",
   "language": "python",
   "name": "python3"
  },
  "language_info": {
   "codemirror_mode": {
    "name": "ipython",
    "version": 3
   },
   "file_extension": ".py",
   "mimetype": "text/x-python",
   "name": "python",
   "nbconvert_exporter": "python",
   "pygments_lexer": "ipython3",
   "version": "3.9.13"
  },
  "orig_nbformat": 4,
  "vscode": {
   "interpreter": {
    "hash": "40df3ce17f7a2be7ee95f14117d7040bea1e206826753b0696b3b0689e40e831"
   }
  }
 },
 "nbformat": 4,
 "nbformat_minor": 2
}
