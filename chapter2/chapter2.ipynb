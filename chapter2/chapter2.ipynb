{
 "cells": [
  {
   "cell_type": "markdown",
   "metadata": {},
   "source": [
    "# Chapter 2: Topographic Issues"
   ]
  },
  {
   "cell_type": "markdown",
   "metadata": {},
   "source": [
    "Import the dependencies"
   ]
  },
  {
   "cell_type": "code",
   "execution_count": null,
   "metadata": {},
   "outputs": [],
   "source": [
    "import numpy as np\n",
    "import matplotlib.pyplot as plt\n",
    "import math"
   ]
  },
  {
   "cell_type": "markdown",
   "metadata": {},
   "source": [
    "## 2.1 Forward Cut"
   ]
  },
  {
   "cell_type": "markdown",
   "metadata": {},
   "source": [
    "### 2.1.2 Write The function"
   ]
  },
  {
   "cell_type": "code",
   "execution_count": null,
   "metadata": {},
   "outputs": [],
   "source": [
    "def intersection(A : np.array,B : np.array,alpha : float, beta : float) -> np.array:\n",
    "    # Calculate the length of ab\n",
    "    # Calculate the 3rd angle of the triangle: alpha + beta + gamma = 200gon\n",
    "    # calculate the length of ap with the sine rule\n",
    "    # the map angle of ab\n",
    "    # the map angle of ap\n",
    "    return \n"
   ]
  },
  {
   "cell_type": "markdown",
   "metadata": {},
   "source": [
    "### 2.1.3 Executing the function"
   ]
  },
  {
   "cell_type": "code",
   "execution_count": null,
   "metadata": {},
   "outputs": [],
   "source": [
    "A = np.array([0.0, 10.0])\n",
    "B = np.array([6.0, 2.0])\n",
    "alpha = 71\n",
    "beta = 95\n",
    "\n",
    "p1 = intersection(A,B,alpha, beta)\n",
    "print(\"The first point equals:\", p1)\n",
    "\n",
    "A = np.array([-10.0, -3.0])\n",
    "B = np.array([0.0, 0.0])\n",
    "alpha = 132\n",
    "beta = 23\n",
    "\n",
    "p2 = intersection(A,B,alpha, beta)\n",
    "print(\"The second point equals:\", p2)"
   ]
  },
  {
   "cell_type": "markdown",
   "metadata": {},
   "source": [
    "### 2.2.4 Visualise the result"
   ]
  },
  {
   "cell_type": "code",
   "execution_count": null,
   "metadata": {},
   "outputs": [],
   "source": []
  },
  {
   "cell_type": "markdown",
   "metadata": {},
   "source": [
    "## 2.2 Backward Cut"
   ]
  },
  {
   "cell_type": "markdown",
   "metadata": {},
   "source": [
    "### 2.2.2 Write the function"
   ]
  },
  {
   "cell_type": "code",
   "execution_count": null,
   "metadata": {},
   "outputs": [],
   "source": [
    "def resection(A : np.array, B : np.array, C : np.array, alpha : float, beta : float, gamma : float) -> np.array:\n",
    "    # 1. Calculate the angles A, B, C from the coordinates of a, b, c.  \n",
    "    # 2. Calculate k1, k2, k3.\n",
    "    # 3. Calculate EP , NP\n",
    "\n",
    "    return "
   ]
  },
  {
   "cell_type": "markdown",
   "metadata": {},
   "source": [
    "### 2.2.3 Execute the function"
   ]
  },
  {
   "cell_type": "code",
   "execution_count": null,
   "metadata": {},
   "outputs": [],
   "source": [
    "a = np.array([10.0, 10.0])\n",
    "b = np.array([14.0, 15.0])\n",
    "c = np.array([19.0, 11.0])\n",
    "alpha = 45\n",
    "beta = 320\n",
    "gamma = 35\n",
    "\n",
    "p1 = resection(a,b,c,alpha, beta, gamma)\n",
    "print(\"The first point equals:\", p1)\n",
    "\n",
    "a = np.array([20.0, 20.0])\n",
    "b = np.array([11.0, 12.0])\n",
    "c = np.array([12.0, 24.0])\n",
    "beta = 40\n",
    "gamma = 70\n",
    "\n",
    "alpha = 400 - 40-70\n",
    "p2 = resection(a,b,c,alpha, beta, gamma)\n",
    "print(\"The second point equals:\", p2)\n"
   ]
  },
  {
   "cell_type": "markdown",
   "metadata": {},
   "source": [
    "### 2.2.4 Visualise the result"
   ]
  },
  {
   "cell_type": "code",
   "execution_count": null,
   "metadata": {},
   "outputs": [],
   "source": []
  }
 ],
 "metadata": {
  "kernelspec": {
   "display_name": "Python 3.9.13 ('env': venv)",
   "language": "python",
   "name": "python3"
  },
  "language_info": {
   "codemirror_mode": {
    "name": "ipython",
    "version": 3
   },
   "file_extension": ".py",
   "mimetype": "text/x-python",
   "name": "python",
   "nbconvert_exporter": "python",
   "pygments_lexer": "ipython3",
   "version": "3.9.13"
  },
  "orig_nbformat": 4,
  "vscode": {
   "interpreter": {
    "hash": "40df3ce17f7a2be7ee95f14117d7040bea1e206826753b0696b3b0689e40e831"
   }
  }
 },
 "nbformat": 4,
 "nbformat_minor": 2
}
