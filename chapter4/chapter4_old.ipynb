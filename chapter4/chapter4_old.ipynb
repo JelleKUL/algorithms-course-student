{
 "cells": [
  {
   "cell_type": "markdown",
   "metadata": {},
   "source": [
    "# Chapter 4: Libraries"
   ]
  },
  {
   "cell_type": "markdown",
   "metadata": {},
   "source": [
    "## Intro"
   ]
  },
  {
   "cell_type": "markdown",
   "metadata": {},
   "source": [
    "### Read video"
   ]
  },
  {
   "cell_type": "code",
   "execution_count": null,
   "metadata": {},
   "outputs": [],
   "source": [
    "# Test the Funtionality for playing the video\n",
    "from IPython.display import Video\n",
    "Video(\"VideoKROOK.mp4\")"
   ]
  },
  {
   "cell_type": "markdown",
   "metadata": {},
   "source": [
    "### Get Frame N"
   ]
  },
  {
   "cell_type": "code",
   "execution_count": null,
   "metadata": {},
   "outputs": [],
   "source": [
    "import cv2\n",
    "import numpy as np\n",
    "import matplotlib.pyplot as plt\n",
    "\n",
    "frameId = 100 # Change this value to pick a frame\n",
    "\n",
    "cap = cv2.VideoCapture('VideoKROOK.mp4')\n",
    "frameCounter =0\n",
    "img2Process = np.zeros((720,512,3), np.uint8)\n",
    "# Read until video is completed\n",
    "while(cap.isOpened()):\n",
    "  # Capture frame-by-frame\n",
    "  ret, frame = cap.read()\n",
    "  if ret == True:\n",
    "    frameCounter += 1\n",
    "    if frameCounter == frameId:\n",
    "        img2Process = cv2.resize(frame, (720,512), interpolation = cv2.INTER_AREA)\n",
    "        break\n",
    "  # Break the loop\n",
    "  else: \n",
    "    break\n",
    "  \n",
    "plt.imshow(img2Process)"
   ]
  },
  {
   "cell_type": "markdown",
   "metadata": {},
   "source": [
    "## 4.1.1 Light green caps"
   ]
  },
  {
   "cell_type": "code",
   "execution_count": null,
   "metadata": {},
   "outputs": [],
   "source": [
    "# set the correct limits for r,g,b\n",
    "lR = 0\n",
    "lG = 0\n",
    "lB = 0\n",
    "hR = 0\n",
    "hG = 0\n",
    "hB = 0\n",
    "\n",
    "\n",
    "low = (lR, lG, lB) \n",
    "high = (hR, hG, hB)\n",
    "im_rgb = cv2.cvtColor(img2Process, cv2.COLOR_BGR2RGB)\n",
    "bin_img = cv2.inRange(im_rgb, low, high)\n",
    "plt.imshow(bin_img, cmap='Greys',  interpolation='nearest')"
   ]
  },
  {
   "cell_type": "markdown",
   "metadata": {},
   "source": [
    "## Morphological operations"
   ]
  },
  {
   "cell_type": "code",
   "execution_count": null,
   "metadata": {},
   "outputs": [],
   "source": [
    "#erode kernel 2 by 2\n",
    "kernel = np.ones((2,2), np.uint8)\n",
    "img_erosion = cv2.erode(bin_img, kernel, iterations=1)  \n",
    "#dilate kernel 16 by 16\n",
    "kernel2 = np.ones((16,16), np.uint8)#define kernel 2  \n",
    "img_dilation = cv2.dilate(img_erosion, kernel2, iterations=1)  \n",
    "#erode with kernel 4 by 4\n",
    "#YOUR CODE >\n",
    "\n",
    "# < YOUR CODE\n",
    "plt.imshow(img_dilation, cmap='Greys',  interpolation='nearest')"
   ]
  },
  {
   "cell_type": "markdown",
   "metadata": {},
   "source": [
    "## 4.2 Pointcloud library (Open3D)"
   ]
  },
  {
   "cell_type": "markdown",
   "metadata": {},
   "source": [
    "### 4.2.1 Visualize point clouds"
   ]
  },
  {
   "cell_type": "code",
   "execution_count": null,
   "metadata": {},
   "outputs": [],
   "source": [
    "import open3d as o3d\n",
    "import numpy as np\n",
    "\n",
    "pcd_path = 'cloud_2.ply'\n",
    "pcd = o3d.io.read_point_cloud(pcd_path)\n",
    "o3d.visualization.draw_geometries([pcd])\n"
   ]
  },
  {
   "cell_type": "markdown",
   "metadata": {},
   "source": [
    "### 4.2.2 Plane fitting"
   ]
  },
  {
   "cell_type": "code",
   "execution_count": null,
   "metadata": {},
   "outputs": [],
   "source": [
    "plane_model, inliers = pcd.segment_plane(distance_threshold=0.08,ransac_n=3,num_iterations=500)\n",
    "inlier_cloud = pcd.select_by_index(inliers)\n",
    "inlier_cloud.paint_uniform_color([1.0, 0, 0])\n",
    "outlier_cloud = pcd.select_by_index(inliers, invert=True)\n",
    "o3d.visualization.draw_geometries([outlier_cloud,inlier_cloud])\n"
   ]
  },
  {
   "cell_type": "code",
   "execution_count": null,
   "metadata": {},
   "outputs": [],
   "source": [
    "#plane 2\n",
    "plane_model2, inliers2 = outlier_cloud.segment_plane(distance_threshold=0.12,ransac_n=3,num_iterations=500)\n",
    "inlier_cloud2 = outlier_cloud.select_by_index(inliers2)\n",
    "inlier_cloud2.paint_uniform_color([0, 1.0, 0])\n",
    "outlier_cloud2 = outlier_cloud.select_by_index(inliers2, invert=True)\n",
    "#plane 3\n",
    "plane_model3, inliers3 = outlier_cloud2.segment_plane(distance_threshold=0.12,ransac_n=3,num_iterations=500)\n",
    "inlier_cloud3 = outlier_cloud2.select_by_index(inliers3)\n",
    "inlier_cloud3.paint_uniform_color([0, 0, 1.0])\n",
    "outlier_cloud3 = outlier_cloud2.select_by_index(inliers3, invert=True)\n",
    "o3d.visualization.draw_geometries([outlier_cloud3,inlier_cloud,inlier_cloud2,inlier_cloud3])"
   ]
  },
  {
   "cell_type": "code",
   "execution_count": null,
   "metadata": {},
   "outputs": [],
   "source": [
    "#read gable roof \n",
    "gable_roof = 'gableRoof2.ply'\n",
    "roof = o3d.io.read_point_cloud(gable_roof)\n",
    "o3d.visualization.draw_geometries([roof])"
   ]
  },
  {
   "cell_type": "code",
   "execution_count": null,
   "metadata": {},
   "outputs": [],
   "source": [
    "# Extract plane1\n",
    "\n",
    "\n",
    "# Plane2\n",
    "\n",
    "\n",
    "# Visualise\n"
   ]
  },
  {
   "cell_type": "markdown",
   "metadata": {},
   "source": [
    "### 4.2.3 Determining cutting lines"
   ]
  },
  {
   "cell_type": "code",
   "execution_count": null,
   "metadata": {},
   "outputs": [],
   "source": [
    "x0 =103831"
   ]
  }
 ],
 "metadata": {
  "kernelspec": {
   "display_name": "Python 3.9.13 ('env': venv)",
   "language": "python",
   "name": "python3"
  },
  "language_info": {
   "codemirror_mode": {
    "name": "ipython",
    "version": 3
   },
   "file_extension": ".py",
   "mimetype": "text/x-python",
   "name": "python",
   "nbconvert_exporter": "python",
   "pygments_lexer": "ipython3",
   "version": "3.9.13"
  },
  "orig_nbformat": 4,
  "vscode": {
   "interpreter": {
    "hash": "40df3ce17f7a2be7ee95f14117d7040bea1e206826753b0696b3b0689e40e831"
   }
  }
 },
 "nbformat": 4,
 "nbformat_minor": 2
}
