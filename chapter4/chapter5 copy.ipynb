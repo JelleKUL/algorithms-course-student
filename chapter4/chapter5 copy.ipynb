{
  "cells": [
    {
      "cell_type": "markdown",
      "metadata": {
        "id": "d2J8TjYglr5U"
      },
      "source": [
        "# Chapter 4: Libraries"
      ]
    },
    {
      "cell_type": "markdown",
      "metadata": {
        "id": "tpQfkVFolwG1"
      },
      "source": [
        "## Intro"
      ]
    },
    {
      "cell_type": "markdown",
      "metadata": {
        "id": "h_yyOi8Tlx0C"
      },
      "source": [
        "### Download files"
      ]
    },
    {
      "cell_type": "code",
      "execution_count": null,
      "metadata": {
        "colab": {
          "base_uri": "https://localhost:8080/"
        },
        "id": "UqSTD8vUlUzL",
        "outputId": "e0b93447-e72c-4d13-d0ef-f48496c6bf57"
      },
      "outputs": [
        {
          "name": "stdout",
          "output_type": "stream",
          "text": [
            "Cloning into 'Ch4Data'...\n",
            "remote: Enumerating objects: 5, done.\u001b[K\n",
            "remote: Counting objects: 100% (5/5), done.\u001b[K\n",
            "remote: Compressing objects: 100% (5/5), done.\u001b[K\n",
            "remote: Total 5 (delta 0), reused 0 (delta 0), pack-reused 0\u001b[K\n",
            "Receiving objects: 100% (5/5), 24.55 MiB | 25.27 MiB/s, done.\n"
          ]
        }
      ],
      "source": [
        "!git clone https://github.com/delima87/Ch4Data.git"
      ]
    },
    {
      "cell_type": "markdown",
      "metadata": {
        "id": "hYi7XC3Kl5oh"
      },
      "source": [
        "### Read video"
      ]
    },
    {
      "cell_type": "code",
      "execution_count": null,
      "metadata": {
        "id": "UEBHLMYRlgoa"
      },
      "outputs": [],
      "source": [
        "from IPython.display import HTML\n",
        "from base64 import b64encode\n",
        "mp4 = open('/content/Ch4Data/VideoKROOK.mp4','rb').read()\n",
        "data_url = \"data:video/mp4;base64,\" + b64encode(mp4).decode()\n",
        "HTML(\"\"\"\n",
        "<video width=\"640\" height=\"480\" controls>\n",
        "      <source src=\"%s\" type=\"video/mp4\">\n",
        "</video>\n",
        "\"\"\" % data_url)\n"
      ]
    },
    {
      "cell_type": "markdown",
      "metadata": {
        "id": "94Y558LKwLFI"
      },
      "source": [
        "# 4.1 Computer Vision library (OpenCV)"
      ]
    },
    {
      "cell_type": "code",
      "execution_count": null,
      "metadata": {
        "id": "l8M6Qu6bwQ-q"
      },
      "outputs": [],
      "source": [
        "import cv2\n",
        "import numpy as np\n",
        "import matplotlib.pyplot as plt\n",
        "\n",
        "frameId = 100 # Change this value to pick a frame\n",
        "\n",
        "cap = cv2.VideoCapture('/content/Ch4Data/VideoKROOK.mp4')\n",
        "frameCounter =0\n",
        "img2Process = np.zeros((720,512,3), np.uint8)\n",
        "# Read until video is completed\n",
        "while(cap.isOpened()):\n",
        "  # Capture frame-by-frame\n",
        "  ret, frame = cap.read()\n",
        "  if ret == True:\n",
        "    frameCounter += 1\n",
        "    if frameCounter == frameId:\n",
        "        img2Process = cv2.resize(frame, (720,512), interpolation = cv2.INTER_AREA)\n",
        "        break\n",
        "  # Break the loop\n",
        "  else:\n",
        "    break\n",
        "\n",
        "img2Process_rgb = cv2.cvtColor(img2Process, cv2.COLOR_BGR2RGB)\n",
        "plt.imshow(img2Process_rgb)"
      ]
    },
    {
      "cell_type": "markdown",
      "metadata": {
        "id": "WVPZI68Cx2Z6"
      },
      "source": [
        "## 4.1.1 Light green caps"
      ]
    },
    {
      "cell_type": "code",
      "execution_count": null,
      "metadata": {
        "id": "gEo0E_Vbx7y0"
      },
      "outputs": [],
      "source": [
        "# set the correct limits for r,g,b\n",
        "lR = 0\n",
        "lG = 0\n",
        "lB = 0\n",
        "hR = 0\n",
        "hG = 0\n",
        "hB = 0\n",
        "\n",
        "\n",
        "low = (lR, lG, lB)\n",
        "high = (hR, hG, hB)\n",
        "im_rgb = cv2.cvtColor(img2Process, cv2.COLOR_BGR2RGB)\n",
        "bin_img = cv2.inRange(im_rgb, low, high)\n",
        "plt.imshow(bin_img, cmap='Greys',  interpolation='nearest')"
      ]
    },
    {
      "cell_type": "markdown",
      "metadata": {
        "id": "hjZWdmMXyABP"
      },
      "source": [
        "## 4.1.2 Morphological Operations"
      ]
    },
    {
      "cell_type": "code",
      "execution_count": null,
      "metadata": {
        "id": "Ql-vUThny_Gv"
      },
      "outputs": [],
      "source": [
        "#erode kernel 2 by 2\n",
        "kernel = np.ones((2,2), np.uint8)\n",
        "img_erosion = cv2.erode(bin_img, kernel, iterations=1)\n",
        "#dilate kernel 16 by 16\n",
        "kernel2 = np.ones((16,16), np.uint8)#define kernel 2\n",
        "img_dilation = cv2.dilate(img_erosion, kernel2, iterations=1)\n",
        "#erode with kernel 4 by 4\n",
        "#YOUR CODE >\n",
        "\n",
        "# < YOUR CODE\n",
        "plt.imshow(img_dilation, cmap='Greys',  interpolation='nearest')"
      ]
    },
    {
      "cell_type": "markdown",
      "metadata": {
        "id": "_0doDv-Uzxly"
      },
      "source": [
        "# 4.2 Pointcloud library (Open3D)"
      ]
    },
    {
      "cell_type": "markdown",
      "metadata": {
        "id": "ElSyOrKe0s_Y"
      },
      "source": [
        "## Installing Open3D"
      ]
    },
    {
      "cell_type": "code",
      "execution_count": null,
      "metadata": {
        "colab": {
          "base_uri": "https://localhost:8080/",
          "height": 1000
        },
        "id": "2Rn_Z4L70jIL",
        "outputId": "f7655422-157f-4fe6-94db-7486f939b739"
      },
      "outputs": [
        {
          "name": "stdout",
          "output_type": "stream",
          "text": [
            "Collecting open3d\n",
            "  Downloading open3d-0.17.0-cp310-cp310-manylinux_2_27_x86_64.whl (420.5 MB)\n",
            "\u001b[2K     \u001b[90m━━━━━━━━━━━━━━━━━━━━━━━━━━━━━━━━━━━━━━━\u001b[0m \u001b[32m420.5/420.5 MB\u001b[0m \u001b[31m2.8 MB/s\u001b[0m eta \u001b[36m0:00:00\u001b[0m\n",
            "\u001b[?25hRequirement already satisfied: numpy>=1.18.0 in /usr/local/lib/python3.10/dist-packages (from open3d) (1.23.5)\n",
            "Collecting dash>=2.6.0 (from open3d)\n",
            "  Downloading dash-2.13.0-py3-none-any.whl (10.4 MB)\n",
            "\u001b[2K     \u001b[90m━━━━━━━━━━━━━━━━━━━━━━━━━━━━━━━━━━━━━━━━\u001b[0m \u001b[32m10.4/10.4 MB\u001b[0m \u001b[31m93.2 MB/s\u001b[0m eta \u001b[36m0:00:00\u001b[0m\n",
            "\u001b[?25hRequirement already satisfied: werkzeug>=2.2.3 in /usr/local/lib/python3.10/dist-packages (from open3d) (2.3.7)\n",
            "Collecting nbformat==5.7.0 (from open3d)\n",
            "  Downloading nbformat-5.7.0-py3-none-any.whl (77 kB)\n",
            "\u001b[2K     \u001b[90m━━━━━━━━━━━━━━━━━━━━━━━━━━━━━━━━━━━━━━━━\u001b[0m \u001b[32m77.1/77.1 kB\u001b[0m \u001b[31m6.4 MB/s\u001b[0m eta \u001b[36m0:00:00\u001b[0m\n",
            "\u001b[?25hCollecting configargparse (from open3d)\n",
            "  Downloading ConfigArgParse-1.7-py3-none-any.whl (25 kB)\n",
            "Collecting ipywidgets>=8.0.4 (from open3d)\n",
            "  Downloading ipywidgets-8.1.1-py3-none-any.whl (139 kB)\n",
            "\u001b[2K     \u001b[90m━━━━━━━━━━━━━━━━━━━━━━━━━━━━━━━━━━━━━━\u001b[0m \u001b[32m139.4/139.4 kB\u001b[0m \u001b[31m14.0 MB/s\u001b[0m eta \u001b[36m0:00:00\u001b[0m\n",
            "\u001b[?25hCollecting addict (from open3d)\n",
            "  Downloading addict-2.4.0-py3-none-any.whl (3.8 kB)\n",
            "Requirement already satisfied: pillow>=9.3.0 in /usr/local/lib/python3.10/dist-packages (from open3d) (9.4.0)\n",
            "Requirement already satisfied: matplotlib>=3 in /usr/local/lib/python3.10/dist-packages (from open3d) (3.7.1)\n",
            "Requirement already satisfied: pandas>=1.0 in /usr/local/lib/python3.10/dist-packages (from open3d) (1.5.3)\n",
            "Requirement already satisfied: pyyaml>=5.4.1 in /usr/local/lib/python3.10/dist-packages (from open3d) (6.0.1)\n",
            "Requirement already satisfied: scikit-learn>=0.21 in /usr/local/lib/python3.10/dist-packages (from open3d) (1.2.2)\n",
            "Requirement already satisfied: tqdm in /usr/local/lib/python3.10/dist-packages (from open3d) (4.66.1)\n",
            "Collecting pyquaternion (from open3d)\n",
            "  Downloading pyquaternion-0.9.9-py3-none-any.whl (14 kB)\n",
            "Requirement already satisfied: fastjsonschema in /usr/local/lib/python3.10/dist-packages (from nbformat==5.7.0->open3d) (2.18.0)\n",
            "Requirement already satisfied: jsonschema>=2.6 in /usr/local/lib/python3.10/dist-packages (from nbformat==5.7.0->open3d) (4.19.0)\n",
            "Requirement already satisfied: jupyter-core in /usr/local/lib/python3.10/dist-packages (from nbformat==5.7.0->open3d) (5.3.1)\n",
            "Requirement already satisfied: traitlets>=5.1 in /usr/local/lib/python3.10/dist-packages (from nbformat==5.7.0->open3d) (5.7.1)\n",
            "Requirement already satisfied: Flask<2.3.0,>=1.0.4 in /usr/local/lib/python3.10/dist-packages (from dash>=2.6.0->open3d) (2.2.5)\n",
            "Collecting werkzeug>=2.2.3 (from open3d)\n",
            "  Downloading Werkzeug-2.2.3-py3-none-any.whl (233 kB)\n",
            "\u001b[2K     \u001b[90m━━━━━━━━━━━━━━━━━━━━━━━━━━━━━━━━━━━━━━\u001b[0m \u001b[32m233.6/233.6 kB\u001b[0m \u001b[31m22.6 MB/s\u001b[0m eta \u001b[36m0:00:00\u001b[0m\n",
            "\u001b[?25hRequirement already satisfied: plotly>=5.0.0 in /usr/local/lib/python3.10/dist-packages (from dash>=2.6.0->open3d) (5.15.0)\n",
            "Collecting dash-html-components==2.0.0 (from dash>=2.6.0->open3d)\n",
            "  Downloading dash_html_components-2.0.0-py3-none-any.whl (4.1 kB)\n",
            "Collecting dash-core-components==2.0.0 (from dash>=2.6.0->open3d)\n",
            "  Downloading dash_core_components-2.0.0-py3-none-any.whl (3.8 kB)\n",
            "Collecting dash-table==5.0.0 (from dash>=2.6.0->open3d)\n",
            "  Downloading dash_table-5.0.0-py3-none-any.whl (3.9 kB)\n",
            "Requirement already satisfied: typing-extensions>=4.1.1 in /usr/local/lib/python3.10/dist-packages (from dash>=2.6.0->open3d) (4.5.0)\n",
            "Requirement already satisfied: requests in /usr/local/lib/python3.10/dist-packages (from dash>=2.6.0->open3d) (2.31.0)\n",
            "Collecting retrying (from dash>=2.6.0->open3d)\n",
            "  Downloading retrying-1.3.4-py3-none-any.whl (11 kB)\n",
            "Collecting ansi2html (from dash>=2.6.0->open3d)\n",
            "  Downloading ansi2html-1.8.0-py3-none-any.whl (16 kB)\n",
            "Requirement already satisfied: nest-asyncio in /usr/local/lib/python3.10/dist-packages (from dash>=2.6.0->open3d) (1.5.7)\n",
            "Requirement already satisfied: setuptools in /usr/local/lib/python3.10/dist-packages (from dash>=2.6.0->open3d) (67.7.2)\n",
            "Collecting comm>=0.1.3 (from ipywidgets>=8.0.4->open3d)\n",
            "  Downloading comm-0.1.4-py3-none-any.whl (6.6 kB)\n",
            "Requirement already satisfied: ipython>=6.1.0 in /usr/local/lib/python3.10/dist-packages (from ipywidgets>=8.0.4->open3d) (7.34.0)\n",
            "Collecting widgetsnbextension~=4.0.9 (from ipywidgets>=8.0.4->open3d)\n",
            "  Downloading widgetsnbextension-4.0.9-py3-none-any.whl (2.3 MB)\n",
            "\u001b[2K     \u001b[90m━━━━━━━━━━━━━━━━━━━━━━━━━━━━━━━━━━━━━━━━\u001b[0m \u001b[32m2.3/2.3 MB\u001b[0m \u001b[31m80.8 MB/s\u001b[0m eta \u001b[36m0:00:00\u001b[0m\n",
            "\u001b[?25hCollecting jupyterlab-widgets~=3.0.9 (from ipywidgets>=8.0.4->open3d)\n",
            "  Downloading jupyterlab_widgets-3.0.9-py3-none-any.whl (214 kB)\n",
            "\u001b[2K     \u001b[90m━━━━━━━━━━━━━━━━━━━━━━━━━━━━━━━━━━━━━━\u001b[0m \u001b[32m214.9/214.9 kB\u001b[0m \u001b[31m19.1 MB/s\u001b[0m eta \u001b[36m0:00:00\u001b[0m\n",
            "\u001b[?25hRequirement already satisfied: contourpy>=1.0.1 in /usr/local/lib/python3.10/dist-packages (from matplotlib>=3->open3d) (1.1.0)\n",
            "Requirement already satisfied: cycler>=0.10 in /usr/local/lib/python3.10/dist-packages (from matplotlib>=3->open3d) (0.11.0)\n",
            "Requirement already satisfied: fonttools>=4.22.0 in /usr/local/lib/python3.10/dist-packages (from matplotlib>=3->open3d) (4.42.1)\n",
            "Requirement already satisfied: kiwisolver>=1.0.1 in /usr/local/lib/python3.10/dist-packages (from matplotlib>=3->open3d) (1.4.5)\n",
            "Requirement already satisfied: packaging>=20.0 in /usr/local/lib/python3.10/dist-packages (from matplotlib>=3->open3d) (23.1)\n",
            "Requirement already satisfied: pyparsing>=2.3.1 in /usr/local/lib/python3.10/dist-packages (from matplotlib>=3->open3d) (3.1.1)\n",
            "Requirement already satisfied: python-dateutil>=2.7 in /usr/local/lib/python3.10/dist-packages (from matplotlib>=3->open3d) (2.8.2)\n",
            "Requirement already satisfied: pytz>=2020.1 in /usr/local/lib/python3.10/dist-packages (from pandas>=1.0->open3d) (2023.3.post1)\n",
            "Requirement already satisfied: scipy>=1.3.2 in /usr/local/lib/python3.10/dist-packages (from scikit-learn>=0.21->open3d) (1.11.2)\n",
            "Requirement already satisfied: joblib>=1.1.1 in /usr/local/lib/python3.10/dist-packages (from scikit-learn>=0.21->open3d) (1.3.2)\n",
            "Requirement already satisfied: threadpoolctl>=2.0.0 in /usr/local/lib/python3.10/dist-packages (from scikit-learn>=0.21->open3d) (3.2.0)\n",
            "Requirement already satisfied: MarkupSafe>=2.1.1 in /usr/local/lib/python3.10/dist-packages (from werkzeug>=2.2.3->open3d) (2.1.3)\n",
            "Requirement already satisfied: Jinja2>=3.0 in /usr/local/lib/python3.10/dist-packages (from Flask<2.3.0,>=1.0.4->dash>=2.6.0->open3d) (3.1.2)\n",
            "Requirement already satisfied: itsdangerous>=2.0 in /usr/local/lib/python3.10/dist-packages (from Flask<2.3.0,>=1.0.4->dash>=2.6.0->open3d) (2.1.2)\n",
            "Requirement already satisfied: click>=8.0 in /usr/local/lib/python3.10/dist-packages (from Flask<2.3.0,>=1.0.4->dash>=2.6.0->open3d) (8.1.7)\n",
            "Collecting jedi>=0.16 (from ipython>=6.1.0->ipywidgets>=8.0.4->open3d)\n",
            "  Downloading jedi-0.19.0-py2.py3-none-any.whl (1.6 MB)\n",
            "\u001b[2K     \u001b[90m━━━━━━━━━━━━━━━━━━━━━━━━━━━━━━━━━━━━━━━━\u001b[0m \u001b[32m1.6/1.6 MB\u001b[0m \u001b[31m78.0 MB/s\u001b[0m eta \u001b[36m0:00:00\u001b[0m\n",
            "\u001b[?25hRequirement already satisfied: decorator in /usr/local/lib/python3.10/dist-packages (from ipython>=6.1.0->ipywidgets>=8.0.4->open3d) (4.4.2)\n",
            "Requirement already satisfied: pickleshare in /usr/local/lib/python3.10/dist-packages (from ipython>=6.1.0->ipywidgets>=8.0.4->open3d) (0.7.5)\n",
            "Requirement already satisfied: prompt-toolkit!=3.0.0,!=3.0.1,<3.1.0,>=2.0.0 in /usr/local/lib/python3.10/dist-packages (from ipython>=6.1.0->ipywidgets>=8.0.4->open3d) (3.0.39)\n",
            "Requirement already satisfied: pygments in /usr/local/lib/python3.10/dist-packages (from ipython>=6.1.0->ipywidgets>=8.0.4->open3d) (2.16.1)\n",
            "Requirement already satisfied: backcall in /usr/local/lib/python3.10/dist-packages (from ipython>=6.1.0->ipywidgets>=8.0.4->open3d) (0.2.0)\n",
            "Requirement already satisfied: matplotlib-inline in /usr/local/lib/python3.10/dist-packages (from ipython>=6.1.0->ipywidgets>=8.0.4->open3d) (0.1.6)\n",
            "Requirement already satisfied: pexpect>4.3 in /usr/local/lib/python3.10/dist-packages (from ipython>=6.1.0->ipywidgets>=8.0.4->open3d) (4.8.0)\n",
            "Requirement already satisfied: attrs>=22.2.0 in /usr/local/lib/python3.10/dist-packages (from jsonschema>=2.6->nbformat==5.7.0->open3d) (23.1.0)\n",
            "Requirement already satisfied: jsonschema-specifications>=2023.03.6 in /usr/local/lib/python3.10/dist-packages (from jsonschema>=2.6->nbformat==5.7.0->open3d) (2023.7.1)\n",
            "Requirement already satisfied: referencing>=0.28.4 in /usr/local/lib/python3.10/dist-packages (from jsonschema>=2.6->nbformat==5.7.0->open3d) (0.30.2)\n",
            "Requirement already satisfied: rpds-py>=0.7.1 in /usr/local/lib/python3.10/dist-packages (from jsonschema>=2.6->nbformat==5.7.0->open3d) (0.10.2)\n",
            "Requirement already satisfied: tenacity>=6.2.0 in /usr/local/lib/python3.10/dist-packages (from plotly>=5.0.0->dash>=2.6.0->open3d) (8.2.3)\n",
            "Requirement already satisfied: six>=1.5 in /usr/local/lib/python3.10/dist-packages (from python-dateutil>=2.7->matplotlib>=3->open3d) (1.16.0)\n",
            "Requirement already satisfied: platformdirs>=2.5 in /usr/local/lib/python3.10/dist-packages (from jupyter-core->nbformat==5.7.0->open3d) (3.10.0)\n",
            "Requirement already satisfied: charset-normalizer<4,>=2 in /usr/local/lib/python3.10/dist-packages (from requests->dash>=2.6.0->open3d) (3.2.0)\n",
            "Requirement already satisfied: idna<4,>=2.5 in /usr/local/lib/python3.10/dist-packages (from requests->dash>=2.6.0->open3d) (3.4)\n",
            "Requirement already satisfied: urllib3<3,>=1.21.1 in /usr/local/lib/python3.10/dist-packages (from requests->dash>=2.6.0->open3d) (2.0.4)\n",
            "Requirement already satisfied: certifi>=2017.4.17 in /usr/local/lib/python3.10/dist-packages (from requests->dash>=2.6.0->open3d) (2023.7.22)\n",
            "Requirement already satisfied: parso<0.9.0,>=0.8.3 in /usr/local/lib/python3.10/dist-packages (from jedi>=0.16->ipython>=6.1.0->ipywidgets>=8.0.4->open3d) (0.8.3)\n",
            "Requirement already satisfied: ptyprocess>=0.5 in /usr/local/lib/python3.10/dist-packages (from pexpect>4.3->ipython>=6.1.0->ipywidgets>=8.0.4->open3d) (0.7.0)\n",
            "Requirement already satisfied: wcwidth in /usr/local/lib/python3.10/dist-packages (from prompt-toolkit!=3.0.0,!=3.0.1,<3.1.0,>=2.0.0->ipython>=6.1.0->ipywidgets>=8.0.4->open3d) (0.2.6)\n",
            "Installing collected packages: dash-table, dash-html-components, dash-core-components, addict, widgetsnbextension, werkzeug, retrying, pyquaternion, jupyterlab-widgets, jedi, configargparse, comm, ansi2html, ipywidgets, dash, nbformat, open3d\n",
            "  Attempting uninstall: widgetsnbextension\n",
            "    Found existing installation: widgetsnbextension 3.6.5\n",
            "    Uninstalling widgetsnbextension-3.6.5:\n",
            "      Successfully uninstalled widgetsnbextension-3.6.5\n",
            "  Attempting uninstall: werkzeug\n",
            "    Found existing installation: Werkzeug 2.3.7\n",
            "    Uninstalling Werkzeug-2.3.7:\n",
            "      Successfully uninstalled Werkzeug-2.3.7\n",
            "  Attempting uninstall: jupyterlab-widgets\n",
            "    Found existing installation: jupyterlab-widgets 3.0.8\n",
            "    Uninstalling jupyterlab-widgets-3.0.8:\n",
            "      Successfully uninstalled jupyterlab-widgets-3.0.8\n",
            "  Attempting uninstall: ipywidgets\n",
            "    Found existing installation: ipywidgets 7.7.1\n",
            "    Uninstalling ipywidgets-7.7.1:\n",
            "      Successfully uninstalled ipywidgets-7.7.1\n",
            "  Attempting uninstall: nbformat\n",
            "    Found existing installation: nbformat 5.9.2\n",
            "    Uninstalling nbformat-5.9.2:\n",
            "      Successfully uninstalled nbformat-5.9.2\n",
            "Successfully installed addict-2.4.0 ansi2html-1.8.0 comm-0.1.4 configargparse-1.7 dash-2.13.0 dash-core-components-2.0.0 dash-html-components-2.0.0 dash-table-5.0.0 ipywidgets-8.1.1 jedi-0.19.0 jupyterlab-widgets-3.0.9 nbformat-5.7.0 open3d-0.17.0 pyquaternion-0.9.9 retrying-1.3.4 werkzeug-2.2.3 widgetsnbextension-4.0.9\n"
          ]
        }
      ],
      "source": [
        "!pip install open3d\n",
        "import open3d as o3d\n",
        "import numpy as np\n",
        "import plotly.graph_objects as go"
      ]
    },
    {
      "cell_type": "markdown",
      "metadata": {
        "id": "8hF86iRbz4nD"
      },
      "source": [
        "## 4.2.1 Visualize Point Clouds"
      ]
    },
    {
      "cell_type": "code",
      "execution_count": null,
      "metadata": {
        "id": "luBk4BYW4KDW"
      },
      "outputs": [],
      "source": [
        "def showPCD(pcd):\n",
        "  points = np.asarray(pcd.points)\n",
        "  colors = None\n",
        "  if pcd.has_colors():\n",
        "      colors = np.asarray(pcd.colors)\n",
        "  elif pcd.has_normals():\n",
        "      colors = (0.5, 0.5, 0.5) + np.asarray(pcd.normals) * 0.5\n",
        "  fig = go.Figure(\n",
        "  data=[\n",
        "    go.Scatter3d(\n",
        "      x=points[:,0], y=points[:,1], z=points[:,2],\n",
        "      mode='markers',\n",
        "      marker=dict(size=1, color=colors)\n",
        "  )\n",
        "  ],\n",
        "  layout=dict(\n",
        "    scene=dict(\n",
        "      xaxis=dict(visible=False),\n",
        "      yaxis=dict(visible=False),\n",
        "      zaxis=dict(visible=False)\n",
        "  )\n",
        "  )\n",
        "  )\n",
        "  fig.show()\n",
        "\n",
        "\n",
        "pcd = o3d.io.read_point_cloud('/content/Ch4Data/cloud_2.ply')\n",
        "showPCD(pcd)\n",
        "\n"
      ]
    },
    {
      "cell_type": "markdown",
      "source": [
        "## 4.2.2 Plane Fitting\n",
        "\n",
        "Aangezien puntenwolken die met laserscanners worden gegenereerd gewoonlijk vrij dicht zijn, is het computationeel duur om metingen uit te voeren. Een mogelijke oplossing is het inpassen van geometrische primitieven in de puntenwolk. De belangrijkste primitieve is de eenvoudigste 3D vorm: een vlak. Open3D gebruikt hiervoor de functie `segment_plane()`. Je kan verschillende parameters doorgeven aan deze functie, maar in zijn eenvoudigste vorm heeft hij alleen een puntenwolk, een maximale afstand, het aantal minimale punten en iteraties nodig. De functie berekent dan het best passende vlak (d.w.z. het vlak met de meeste punten in de puntenwolk). Naast het vlak geeft deze functie ook de inliers of de punten die in het vlak liggen. \n",
        "\n",
        "### Eerste vlak\n",
        "\n",
        "- Laad een puntenwolk naar keuze in.\n",
        "- Gebruik `segment_plane()` om het best passende vlak in de puntenwolk te passen. Kies zelf een goede waarde voor de maximale afstand `distance_threshold`). Stel de andere parameters in met deze waarden:  `ransac_n = 3, num_iterations=500`.\n",
        "- Bekijk het model dat je terugkrijgt. Wat zouden deze getallen betekenen?\n",
        "- Gebruik de functie `select_by_index()` om alleen de inliers van dit vlak uit de oorspronkelijke puntenwolk te selecteren.\n",
        "- Visualiseer de inliers en de puntenwolk. Gebruik de functie `paint_uniform_color()` om de uitschieters in te kleuren."
      ],
      "metadata": {
        "id": "gdzX0tJt46MT"
      }
    },
    {
      "cell_type": "code",
      "source": [
        "# Fitting 1st plane\n",
        "plane_model, inliers = pcd.segment_plane(distance_threshold=0.08,ransac_n=3,num_iterations=500)\n",
        "inlier_cloud = pcd.select_by_index(inliers)\n",
        "inlier_cloud.paint_uniform_color([1.0, 0, 0])\n",
        "outlier_cloud = pcd.select_by_index(inliers, invert=True)\n",
        "# visualizing extracted plane\n",
        "showPCD(inlier_cloud+ outlier_cloud)"
      ]
    },
    {
      "cell_type": "markdown",
      "metadata": {},
      "source": [
        "### Andere vlakken\n",
        "Zodra het eerste (dominante) vlak is aangebracht, kunt u op zoek gaan naar het op één na beste vlak. Volg hiervoor de volgende deze stappen:\n",
        "- Nadat het dominante vlak is gedetecteerd, wordt een nieuwe puntenwolk gemaakt waarin de inliers van het eerste vlak zijn verwijderd. Gebruik daarvoor de functie `select_by_index()` en de uitschieters. filter de verkregen inliers en stel `invert = True`.\n",
        "- Voer nu dezelfde functie `segment_plane()` uit op deze puntenwolk en vind het op één na beste vlak.\n",
        "- Herhaal stappen één en twee om het derde, vierde of vijfde vlak te vinden.\n",
        "- Visualiseer de resultaten door de gebieden telkens een andere kleur te geven."
      ]
    },
    {
      "cell_type": "code",
      "source": [
        "\n",
        "#plane 2\n",
        "plane_model2, inliers2 = outlier_cloud.segment_plane(distance_threshold=0.05,ransac_n=3,num_iterations=500)\n",
        "inlier_cloud2 = outlier_cloud.select_by_index(inliers2)\n",
        "inlier_cloud2.paint_uniform_color([0, 1.0, 0])\n",
        "outlier_cloud2 = outlier_cloud.select_by_index(inliers2, invert=True)\n",
        "showPCD(inlier_cloud2+outlier_cloud2 + inlier_cloud)"
      ],
      "metadata": {
        "id": "YkS1rvj46UOW"
      },
      "execution_count": null,
      "outputs": []
    },
    {
      "cell_type": "markdown",
      "source": [
        "### Plane extraction on gable roof"
      ],
      "metadata": {
        "id": "2Nq6OYJkBrdb"
      }
    },
    {
      "cell_type": "code",
      "source": [
        "#read gable roof\n",
        "gable_roof = '/content/Ch4Data/gableRoof2.ply'\n",
        "roof = o3d.io.read_point_cloud(gable_roof)\n",
        "showPCD(roof)"
      ],
      "metadata": {
        "id": "bqkdv-yFBqCu"
      },
      "execution_count": null,
      "outputs": []
    },
    {
      "cell_type": "markdown",
      "metadata": {},
      "source": [
        " Bepaal het snijpunt van de 2 relevante dominante vlakken om de nok van het dak te bepalen. Daartoe herhalen we een beetje wiskunde. Stel je hebt twee vlakken ${\\tt \\Pi_1}$ and ${\\tt \\Pi_2}$ met vergelijking:\n",
        "$$\t{\\tt \\Pi_1}: a_1X+b_1Y+c_1Z+d_1 = 0\\nonumber \\\\\n",
        "\t{\\tt \\Pi_2}: a_2X+b_2Y+c_2Z+d_2 = 0\n",
        "$$\n",
        "\n",
        "Hoe bereken je het snijpunt van deze twee vlakken? De vergelijking van een rechte kan parametrisch geschreven worden:\n",
        "$$\n",
        "{\\tt M} = {\\tt M_0} + \\lambda {\\tt D}\\nonumber \\\\\n",
        "\\begin{bmatrix}X\\\\Y\\\\Z\\end{bmatrix} = \\begin{bmatrix}X_0\\\\Y_0\\\\Z_0\\end{bmatrix} + \\lambda\\begin{bmatrix}X_d\\\\Y_d\\\\Z_d\\end{bmatrix}\n",
        "$$\n",
        "waardat ${\\tt M_0}$ is een punt op de lijn en ${\\tt D}$ is de richting van de lijn. Deze richting is gemakkelijk te berekenen. We weten immers dat het snijpunt van de twee vlakken in beide vlakken moet liggen. Dat betekent dat de richting ervan loodrecht moet staan op de normalen van beide vlakken:\n",
        "$$\n",
        "\t{\\tt D} \\bot {\\tt n_1}\\\\\n",
        "\t{\\tt D} \\bot {\\tt n_2}\n",
        "$$\n",
        "Zo kan ${\\tt D}$ bepaald worden als het vectorproduct van ${\\tt n_1}$ en ${\\tt n_2}$:\n",
        "$$\n",
        "{\\tt D} = {\\tt n_1} \\times {\\tt n_2}\n",
        "$$\n",
        "Je ziet een illustratie hier:\n",
        "\n",
        "![](cuttingplanes.png)\n",
        "\n",
        "\n",
        "We hoeven alleen maar ${\\tt M_0}$ (een willekeurig punt op de lijn) te bepalen. We kunnen dit eenvoudig als volgt doen:\n",
        "- Bepaal 1 coördinaat in de buurt van de lijn, Bijvoorbeeld een $(X)$ coördinaat: $X = X_0$.\n",
        "- Als $X_0$ bekend is, bepaal dan $Y_0$ en $Z_0$, wetende dat het punt op de secans moet liggen, en dus aan beide vergelijkingen moet voldoen. Stel de twee vergelijkingen op en los het systeem op."
      ]
    },
    {
      "cell_type": "markdown",
      "metadata": {},
      "source": [
        "Het volledige algoritme wordt dan:\n",
        "- Bepaal de normalen van de vlakken ${\\tt n_1}$ en ${\\tt n_2}$.\n",
        "- Bepaal de richting ${\\tt D} = {\\tt n_1} \\times {\\tt n_2}$ (tip: `numpy.cross()`).\n",
        "- Kies een coördinaat ${X_0}$.\n",
        "- Stel het stelsel ($Y_0$ and $Z_0$) op en los op.\n",
        "- Teken nu het snijpunt door $\\lambda$ te variëren. Als ${\\tt n_1}$ en ${\\tt n_2}$ eenheidsvectoren zijn, is $\\lambda$ een afstand in meters. Afhankelijk van de keuze van je startpunt ($X_0$) moet je $\\lambda$ positieve en/of negatieve waarden geven. \n",
        "- Om de lijn te tekenen gebruik je de functie open3D `geometry.LineSet()`, waar je de punten moet invoeren die de lijn vormen en de array van verbindingen. Een voorbeeld van het gebruik van deze functie vindt u in deze [link](http://www.open3d.org/docs/0.7.0/tutorial/Basic/visualization.html)"
      ]
    },
    {
      "cell_type": "code",
      "source": [
        "#YOUR CODE >\n",
        "\n",
        "# Extract plane1\n",
        "\n",
        "\n",
        "# Plane2\n",
        "\n",
        "\n",
        "# Visualise\n",
        "\n",
        "# < YOUR CODE\n"
      ],
      "metadata": {
        "id": "hPO5A5KJB_bW"
      },
      "execution_count": null,
      "outputs": []
    },
    {
      "cell_type": "markdown",
      "metadata": {},
      "source": [
        "Punt $x0$ ligt op de snijlijn"
      ]
    },
    {
      "cell_type": "code",
      "execution_count": null,
      "metadata": {
        "id": "d2YParq5CMxA"
      }
    },
    {
      "cell_type": "code",
      "source": [
        "x0 =103831\n",
        "#YOUR CODE >\n",
        "\n",
        "\n",
        "# < YOUR CODE"
      ],
      "metadata": {
        "id": "fykvTne8CSFw"
      },
      "execution_count": null,
      "outputs": []
    }
  ],
  "metadata": {
    "colab": {
      "gpuType": "T4",
      "provenance": []
    },
    "kernelspec": {
      "display_name": "Python 3",
      "name": "python3"
    },
    "language_info": {
      "name": "python"
    }
  },
  "nbformat": 4,
  "nbformat_minor": 0
}
