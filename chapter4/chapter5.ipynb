{
  "cells": [
    {
      "cell_type": "markdown",
      "metadata": {
        "id": "d2J8TjYglr5U"
      },
      "source": [
        "# Chapter 5: Libraries\n",
        "\n",
        "Een belangrijke troef van Python is de uitgebreide set bibliotheken die de basisfunctionaliteit uitbreiden. De toolboxen bestrijken een breed terrein: van optimalisatie, over beeldverwerking tot economie. De handleidingen zijn, zoals altijd, duidelijk en uitgebreid. In dit hoofdstuk maken we kennis met twee bibliotheken, OpenCV en Open3D. De uitleg is met opzet kort gehouden, zodat de leerling zelf kan zoeken naar de relevante functies en syntaxen. "
      ]
    },
    {
      "cell_type": "markdown",
      "metadata": {
        "id": "tpQfkVFolwG1"
      },
      "source": [
        "## Intro"
      ]
    },
    {
      "cell_type": "markdown",
      "metadata": {
        "id": "h_yyOi8Tlx0C"
      },
      "source": [
        "### Download files"
      ]
    },
    {
      "cell_type": "code",
      "execution_count": null,
      "metadata": {
        "colab": {
          "base_uri": "https://localhost:8080/"
        },
        "id": "UqSTD8vUlUzL",
        "outputId": "e0b93447-e72c-4d13-d0ef-f48496c6bf57"
      },
      "outputs": [],
      "source": [
        "!git clone https://github.com/delima87/Ch4Data.git"
      ]
    },
    {
      "cell_type": "markdown",
      "metadata": {
        "id": "hYi7XC3Kl5oh"
      },
      "source": [
        "### Read video"
      ]
    },
    {
      "cell_type": "code",
      "execution_count": null,
      "metadata": {
        "id": "UEBHLMYRlgoa"
      },
      "outputs": [],
      "source": [
        "from IPython.display import HTML\n",
        "from base64 import b64encode\n",
        "mp4 = open('/content/Ch4Data/VideoKROOK.mp4','rb').read()\n",
        "data_url = \"data:video/mp4;base64,\" + b64encode(mp4).decode()\n",
        "HTML(\"\"\"\n",
        "<video width=\"640\" height=\"480\" controls>\n",
        "      <source src=\"%s\" type=\"video/mp4\">\n",
        "</video>\n",
        "\"\"\" % data_url)\n"
      ]
    },
    {
      "cell_type": "markdown",
      "metadata": {
        "id": "94Y558LKwLFI"
      },
      "source": [
        "# 4.1 Computer Vision library (OpenCV)\n",
        "Python heeft uitgebreide bibliotheken voor beeldverwerking. In deze sectie zullen we zien hoe we afbeeldingen of video's kunnen lezen of schrijven en er basisbewerkingen op kunnen uitvoeren die gebruikt worden in fotogrammetrische toepassingen. Als voorbeeld gebruiken we de opnames die gemaakt zijn door de onderzoeksgroep {Constructiemechanica en Bouwmaterialen} als onderdeel van een onderzoek naar de invloed van voetgangers op bruggen. Het onderzoek in kwestie beoogt de interactie tussen voetgangers en de brug te onderzoeken. Daartoe is het belangrijk om de positie van de lopende mensen in de tijd te kennen, en een eerste stap bestaat uit het identificeren van de verschillende kleuren helmen van mensen. "
      ]
    },
    {
      "cell_type": "code",
      "execution_count": null,
      "metadata": {
        "id": "l8M6Qu6bwQ-q"
      },
      "outputs": [],
      "source": [
        "import cv2\n",
        "import numpy as np\n",
        "import matplotlib.pyplot as plt\n",
        "\n",
        "frameId = 100 # Change this value to pick a frame\n",
        "\n",
        "cap = cv2.VideoCapture('/content/Ch4Data/VideoKROOK.mp4')\n",
        "frameCounter =0\n",
        "img2Process = np.zeros((720,512,3), np.uint8)\n",
        "# Read until video is completed\n",
        "while(cap.isOpened()):\n",
        "  # Capture frame-by-frame\n",
        "  ret, frame = cap.read()\n",
        "  if ret == True:\n",
        "    frameCounter += 1\n",
        "    if frameCounter == frameId:\n",
        "        img2Process = cv2.resize(frame, (720,512), interpolation = cv2.INTER_AREA)\n",
        "        break\n",
        "  # Break the loop\n",
        "  else:\n",
        "    break\n",
        "\n",
        "img2Process_rgb = cv2.cvtColor(img2Process, cv2.COLOR_BGR2RGB)\n",
        "plt.imshow(img2Process_rgb)"
      ]
    },
    {
      "cell_type": "markdown",
      "metadata": {
        "id": "WVPZI68Cx2Z6"
      },
      "source": [
        "## 4.1.1 Light green caps\n",
        "De eerste stap is het detecteren van mogelijke voetgangers. Dit gebeurt onafhankelijk in alle beelden afzonderlijk. We gebruiken de petten die de proefpersonen in de video dragen. Deze petten hebben specifieke kleuren die duidelijk herkenbaar zijn en opvallen tegen de achtergrond. Jouw taak is om de lichtgroene petten in elk beeld te detecteren. Je gebruikt hiervoor een eenvoudige kleursegmentatie: een pixel kan behoren tot een lichtgroen petje als het volgende geldt voor de RGB-kleuren:\n",
        "$$\n",
        "\\textrm{R} \\in [120-180] \\nonumber\\\\\n",
        "\\textrm{G} \\in [180-230] \\nonumber\\\\\n",
        "\\textrm{B} \\in [110-160]\n",
        "$$\n",
        "Pixels die niet aan deze eis voldoen behoren zeker niet tot een lichtgroene kap. Het is aan jou om de volgende stappen uit te voeren, met behulp van de functionaliteit van OpenCV:\n",
        "\n",
        "- Gebruik het bestand `VideoKROOK.mp4}`, dat is opgenomen op de voetgangersbrug aan de Krook in Gent.\n",
        "- Lees elk frame van de video en converteer naar uint8.\n",
        "- Elk frame is een 3D matrix: ${\\bf I}(x,y,c)$ waar $x$ en $y$ de afbeeldingscoordinaten zijn en $c$ de kleur is (1=R, 2= G, 3=B). In andere woorden ${\\bf I}(120,251,3)$ is de blauwe waarde van het coordinaat $(120, 251)$.\n",
        "- Voor elk frame bekijk je nu de RGB-waarden en maak je een binaire afbeelding met 1 op de pixels die voldoen aan de kleurfilter en 0 op de pixels die niet voldoen.\n",
        "- Visualiseer enkele van deze beelden (bijvoorbeeld met de functie `cv2.imshow()`). Een voorbeeld van afbeelding 100 is te zien hieronder.\n",
        "\n",
        "Frame 100             |  Detected caps\n",
        ":-------------------------:|:-------------------------:\n",
        "![](frame100.jpg)  |  ![](detectionresult100.png)"
      ]
    },
    {
      "cell_type": "code",
      "execution_count": null,
      "metadata": {
        "id": "gEo0E_Vbx7y0"
      },
      "outputs": [],
      "source": [
        "# set the correct limits for r,g,b\n",
        "lR = 0\n",
        "lG = 0\n",
        "lB = 0\n",
        "hR = 0\n",
        "hG = 0\n",
        "hB = 0"
      ]
    },
    {
      "cell_type": "code",
      "execution_count": null,
      "metadata": {},
      "outputs": [],
      "source": [
        "low = (lR, lG, lB)\n",
        "high = (hR, hG, hB)\n",
        "im_rgb = cv2.cvtColor(img2Process, cv2.COLOR_BGR2RGB)\n",
        "bin_img = cv2.inRange(im_rgb, low, high)\n",
        "plt.imshow(bin_img, cmap='Greys',  interpolation='nearest')"
      ]
    },
    {
      "cell_type": "markdown",
      "metadata": {
        "id": "hjZWdmMXyABP"
      },
      "source": [
        "## 4.1.2 Morphological Operations\n",
        "Je ziet dat de lichtgroene dopjes worden gedetecteerd, maar dat ook veel verkeerde pixels als 'light green cap' worden geïdentificeerd. Om dit op te lossen, passen we enkele morfologische operatoren toe op de binaire beelden. Het gaat om *erode* en *dilate* filters die de gebieden respectievelijk verkleinen en vergroten.\n",
        "\n",
        "- Breid de vorige code uit en werk op de binaire beelden met de detecties.\n",
        "- Begin met een erodeerfilter met een rechthoek van 2x2. Pas dat toe op de binaire afbeelding uit de vorige stap en kijk naar `cv2.erode()` en `cv2.dilate()`.\n",
        "- Pas dan een dilatatiefilter toe op het resultaat met een rechthoek van 16x16.\n",
        "- Voer tenslotte een erodeerfilter uit op dat resultaat met een rechthoek van 4x4.\n",
        "- Visualiseer een aantal van deze beelden `cv2.imshow()`. Een voorbeeld van afbeelding 100 is te zien hieronder\n",
        "\n",
        "\n",
        "Frame 100             |  Detected caps\n",
        ":-------------------------:|:-------------------------:\n",
        "![](frame100.jpg)  |  ![](morphologicalresult100.png)"
      ]
    },
    {
      "cell_type": "code",
      "execution_count": null,
      "metadata": {
        "id": "Ql-vUThny_Gv"
      },
      "outputs": [],
      "source": [
        "#erode kernel 2 by 2\n",
        "kernel = np.ones((2,2), np.uint8)\n",
        "img_erosion = cv2.erode(bin_img, kernel, iterations=1)\n",
        "#dilate kernel 16 by 16\n",
        "kernel2 = np.ones((16,16), np.uint8)#define kernel 2\n",
        "img_dilation = cv2.dilate(img_erosion, kernel2, iterations=1)\n",
        "#erode with kernel 4 by 4\n",
        "#YOUR CODE >\n",
        "\n",
        "# < YOUR CODE\n",
        "plt.imshow(img_dilation, cmap='Greys',  interpolation='nearest')"
      ]
    },
    {
      "cell_type": "markdown",
      "metadata": {
        "id": "_0doDv-Uzxly"
      },
      "source": [
        "# 4.2 Pointcloud library (Open3D)\n",
        "De technologische ontwikkeling op het gebied van geomatica en landmeetkunde gaat razendsnel. Een belangrijke innovatie die de laatste jaren ingang heeft gevonden, is het gebruik van laserscanners, zowel op land als op mobiele voertuigen. Dergelijke scanners hebben het voordeel dat zij in korte tijd zeer grote datasets kunnen opnemen die de omgeving rond het apparaat in kaart brengen, in de vorm van puntenwolken.\n",
        "\n",
        "Een groot nadeel van puntwolken van laserscanners is de omvang van de gegevens. Een enkele scan bevat al snel miljoenen punten, zodat de opname van een straat of een stad al snel onbeheersbaar wordt. Er bestaan natuurlijk goede softwareprogramma's die de grafische kaarten (GPU) van uw computer gebruiken om de puntenwolken weer te geven, maar de interactie en het meten in de puntenwolken blijft een probleem.\n",
        "\n",
        "Daarom richten steeds meer mensen zich op het automatisch segmenteren en verwerken van puntenwolken. Er bestaan verschillende python-bibliotheken die verschillende functies bevatten die je hiervoor kunt gebruiken. "
      ]
    },
    {
      "cell_type": "markdown",
      "metadata": {
        "id": "ElSyOrKe0s_Y"
      },
      "source": [
        "## Installing Open3D"
      ]
    },
    {
      "cell_type": "code",
      "execution_count": null,
      "metadata": {
        "colab": {
          "base_uri": "https://localhost:8080/",
          "height": 1000
        },
        "id": "2Rn_Z4L70jIL",
        "outputId": "f7655422-157f-4fe6-94db-7486f939b739"
      },
      "outputs": [],
      "source": [
        "!pip install open3d"
      ]
    },
    {
      "cell_type": "code",
      "execution_count": null,
      "metadata": {},
      "outputs": [],
      "source": [
        "import open3d as o3d\n",
        "import numpy as np\n",
        "import plotly.graph_objects as go"
      ]
    },
    {
      "cell_type": "markdown",
      "metadata": {
        "id": "8hF86iRbz4nD"
      },
      "source": [
        "## 4.2.1 Visualize Point Clouds\n",
        "Open3D is een python-bibliotheek voor het importeren en verwerken van puntenwolken. Het bevat een reeks algoritmen om niet alleen 3D-gegevens te visualiseren, maar ook om high-level 3D-toepassingen te ontwikkelen. De volledige documentatie van de verschillende Open3D modules is te vinden in deze link: [Open3d Documentation](http://www.open3d.org/docs/release/)."
      ]
    },
    {
      "cell_type": "code",
      "execution_count": null,
      "metadata": {
        "id": "luBk4BYW4KDW"
      },
      "outputs": [],
      "source": [
        "def showPCD(pcd):\n",
        "  points = np.asarray(pcd.points)\n",
        "  colors = None\n",
        "  if pcd.has_colors():\n",
        "      colors = np.asarray(pcd.colors)\n",
        "  elif pcd.has_normals():\n",
        "      colors = (0.5, 0.5, 0.5) + np.asarray(pcd.normals) * 0.5\n",
        "  fig = go.Figure(\n",
        "  data=[\n",
        "    go.Scatter3d(\n",
        "      x=points[:,0], y=points[:,1], z=points[:,2],\n",
        "      mode='markers',\n",
        "      marker=dict(size=1, color=colors)\n",
        "  )\n",
        "  ],\n",
        "  layout=dict(\n",
        "    scene=dict(\n",
        "      xaxis=dict(visible=False),\n",
        "      yaxis=dict(visible=False),\n",
        "      zaxis=dict(visible=False)\n",
        "  )\n",
        "  )\n",
        "  )\n",
        "  fig.show()"
      ]
    },
    {
      "cell_type": "code",
      "execution_count": null,
      "metadata": {},
      "outputs": [],
      "source": [
        "pcd = o3d.io.read_point_cloud('/content/Ch4Data/cloud_2.ply')\n",
        "showPCD(pcd)"
      ]
    },
    {
      "cell_type": "markdown",
      "metadata": {
        "id": "gdzX0tJt46MT"
      },
      "source": [
        "## 4.2.2 Plane Fitting\n",
        "\n",
        "Aangezien puntenwolken die met laserscanners worden gegenereerd gewoonlijk vrij dicht zijn, is het computationeel duur om metingen uit te voeren. Een mogelijke oplossing is het inpassen van geometrische primitieven in de puntenwolk. De belangrijkste primitieve is de eenvoudigste 3D vorm: een vlak. Open3D gebruikt hiervoor de functie `segment_plane()`. Je kan verschillende parameters doorgeven aan deze functie, maar in zijn eenvoudigste vorm heeft hij alleen een puntenwolk, een maximale afstand, het aantal minimale punten en iteraties nodig. De functie berekent dan het best passende vlak (d.w.z. het vlak met de meeste punten in de puntenwolk). Naast het vlak geeft deze functie ook de inliers of de punten die in het vlak liggen. \n",
        "\n",
        "### Eerste vlak\n",
        "\n",
        "- Laad een puntenwolk naar keuze in.\n",
        "- Gebruik `segment_plane()` om het best passende vlak in de puntenwolk te passen. Kies zelf een goede waarde voor de maximale afstand `distance_threshold`). Stel de andere parameters in met deze waarden:  `ransac_n = 3, num_iterations=500`.\n",
        "- Bekijk het model dat je terugkrijgt. Wat zouden deze getallen betekenen?\n",
        "- Gebruik de functie `select_by_index()` om alleen de inliers van dit vlak uit de oorspronkelijke puntenwolk te selecteren.\n",
        "- Visualiseer de inliers en de puntenwolk. Gebruik de functie `paint_uniform\\color()` om de uitschieters in te kleuren."
      ]
    },
    {
      "cell_type": "code",
      "execution_count": null,
      "metadata": {
        "id": "mK2NIV--5DQi"
      },
      "outputs": [],
      "source": [
        "# Fitting 1st plane\n",
        "plane_model, inliers = pcd.segment_plane(distance_threshold=0.08,ransac_n=3,num_iterations=500)\n",
        "inlier_cloud = pcd.select_by_index(inliers)\n",
        "inlier_cloud.paint_uniform_color([1.0, 0, 0])\n",
        "outlier_cloud = pcd.select_by_index(inliers, invert=True)\n",
        "# visualizing extracted plane\n",
        "showPCD(inlier_cloud+ outlier_cloud)"
      ]
    },
    {
      "cell_type": "markdown",
      "metadata": {},
      "source": [
        "### Andere vlakken\n",
        "Zodra het eerste (dominante) vlak is aangebracht, kunt u op zoek gaan naar het op één na beste vlak. Volg hiervoor de volgende deze stappen:\n",
        "- Nadat het dominante vlak is gedetecteerd, wordt een nieuwe puntenwolk gemaakt waarin de inliers van het eerste vlak zijn verwijderd. Gebruik daarvoor de functie `select_by_index()` en de uitschieters. filter de verkregen inliers en stel `invert = True`.\n",
        "- Voer nu dezelfde functie ({\\tt segment\\_plane}) uit op deze puntenwolk en vind het op één na beste vlak.\n",
        "- Herhaal stappen één en twee om het derde, vierde of vijfde vlak te vinden.\n",
        "- Visualiseer de resultaten door de gebieden telkens een andere kleur te geven."
      ]
    },
    {
      "cell_type": "code",
      "execution_count": null,
      "metadata": {
        "id": "YkS1rvj46UOW"
      },
      "outputs": [],
      "source": [
        "\n",
        "# Plane 2\n"
      ]
    },
    {
      "cell_type": "code",
      "execution_count": null,
      "metadata": {},
      "outputs": [],
      "source": [
        "# Plane 3\n"
      ]
    },
    {
      "cell_type": "code",
      "execution_count": null,
      "metadata": {},
      "outputs": [],
      "source": [
        "# Plane 4"
      ]
    },
    {
      "cell_type": "code",
      "execution_count": null,
      "metadata": {},
      "outputs": [],
      "source": [
        "# Plane 5"
      ]
    },
    {
      "cell_type": "markdown",
      "metadata": {},
      "source": [
        "## 4.2.3 Cutting Lines\n",
        "Voor veel toepassingen zijn we niet direct geïnteresseerd in oppervlakken, maar in hun snijpunten. Denk maar aan de GRB waar bijvoorbeeld de gevellijn wordt bepaald als het snijpunt tussen de gevel en de grond. Of bijvoorbeeld de nok van een dak waar de twee schuine vlakken elkaar snijden In de laatste oefening bepaal je de nok van zo'n dak."
      ]
    },
    {
      "cell_type": "markdown",
      "metadata": {
        "id": "2Nq6OYJkBrdb"
      },
      "source": [
        "### Plane extraction on gable roof"
      ]
    },
    {
      "cell_type": "code",
      "execution_count": null,
      "metadata": {
        "id": "bqkdv-yFBqCu"
      },
      "outputs": [],
      "source": [
        "#read gable roof\n",
        "gable_roof = '/content/Ch4Data/gableRoof2.ply'\n",
        "roof = o3d.io.read_point_cloud(gable_roof)\n",
        "showPCD(roof)"
      ]
    },
    {
      "cell_type": "markdown",
      "metadata": {},
      "source": [
        "Bepaal het snijpunt van de 2 relevante dominante vlakken om de nok van het dak te bepalen. Daartoe herhalen we een beetje wiskunde. Stel je hebt twee vlakken ${\\tt \\Pi_1}$ and ${\\tt \\Pi_2}$ met vergelijking:\n",
        "$$\n",
        "{\\tt \\Pi_1}: a_1X+b_1Y+c_1Z+d_1 = 0\\nonumber \\\\\n",
        "{\\tt \\Pi_2}: a_2X+b_2Y+c_2Z+d_2 = 0\n",
        "$$\n",
        "\n",
        "Hoe bereken je het snijpunt van deze twee vlakken? De vergelijking van een rechte kan parametrisch geschreven worden:\n",
        "$$\n",
        "{\\tt M} = {\\tt M_0} + \\lambda {\\tt D}\\nonumber \\\\\n",
        "\\begin{bmatrix}X\\\\Y\\\\Z\\end{bmatrix} = \\begin{bmatrix}X_0\\\\Y_0\\\\Z_0\\end{bmatrix} + \\lambda\\begin{bmatrix}X_d\\\\Y_d\\\\Z_d\\end{bmatrix}\n",
        "$$\n",
        "waardat ${\\tt M_0}$ is een punt op de lijn en ${\\tt D}$ is de richting van de lijn. Deze richting is gemakkelijk te berekenen. We weten immers dat het snijpunt van de twee vlakken in beide vlakken moet liggen. Dat betekent dat de richting ervan loodrecht moet staan op de normalen van beide vlakken:\n",
        "$$\n",
        "{\\tt D} \\bot {\\tt n_1}\\\\\n",
        "{\\tt D} \\bot {\\tt n_2}\n",
        "$$\n",
        "Zo kan ${\\tt D}$ bepaald worden als het vectorproduct van ${\\tt n_1}$ en ${\\tt n_2}$:\n",
        "$$\n",
        "{\\tt D} = {\\tt n_1} \\times {\\tt n_2}\n",
        "$$\n",
        "Je ziet een illustratie hier:\n",
        "\n",
        "![](cuttingplanes.png)\n",
        "\n",
        "We hoeven alleen maar ${\\tt M_0}$ (een willekeurig punt op de lijn) te bepalen. We kunnen dit eenvoudig als volgt doen:\n",
        "- Bepaal 1 coördinaat in de buurt van de lijn, Bijvoorbeeld een $(X)$ coördinaat: $X = X_0$\n",
        "- Als $X_0$ bekend is, bepaal dan $Y_0$ en $Z_0$, wetende dat het punt op de secans moet liggen, en dus aan beide vergelijkingen moet voldoen. Stel de twee vergelijkingen op en los het systeem op.\n"
      ]
    },
    {
      "cell_type": "markdown",
      "metadata": {},
      "source": [
        "\"Het volledige algoritme wordt dan:\n",
        "- Bepaal de normalen van de vlakken ${\\tt n_1}$ en ${\\tt n_2}$.\n",
        "- Bepaal de richting ${\\tt D} = {\\tt n_1} \\times {\\tt n_2}$ (tip: `numpy.cross()`).\n",
        "- Kies een coördinaat ${X_0}$.\n",
        "- Stel het stelsel ($Y_0$ and $Z_0$) op en los op.\n",
        "- Teken nu het snijpunt door $\\\\lambda$ te variëren. Als ${\\\\tt n_1}$ en ${\\\\tt n_2}$ eenheidsvectoren zijn, is $\\\\lambda$ een afstand in meters. Afhankelijk van de keuze van je startpunt ($X_0$) moet je $\\\\lambda$ positieve en/of negatieve waarden geven. \n",
        "- Om de lijn te tekenen gebruik je de functie open3D `geometry.LineSet()`, waar je de punten moet invoeren die de lijn vormen en de array van verbindingen. Een voorbeeld van het gebruik van deze functie vindt u in deze [link](http://www.open3d.org/docs/0.7.0/tutorial/Basic/visualization.html)\"\n",
        "      "
      ]
    },
    {
      "cell_type": "code",
      "execution_count": null,
      "metadata": {
        "id": "hPO5A5KJB_bW"
      },
      "outputs": [],
      "source": [
        "#YOUR CODE >\n",
        "\n",
        "# Extract plane1\n",
        "\n",
        "\n",
        "# Plane2\n",
        "\n",
        "\n",
        "# Visualise\n",
        "\n",
        "# < YOUR CODE\n"
      ]
    },
    {
      "cell_type": "markdown",
      "metadata": {
        "id": "d2YParq5CMxA"
      },
      "source": [
        "Punt $x0$ ligt op de snijlijn"
      ]
    },
    {
      "cell_type": "code",
      "execution_count": null,
      "metadata": {
        "id": "fykvTne8CSFw"
      },
      "outputs": [],
      "source": [
        "x0 =103831\n",
        "#YOUR CODE >\n",
        "\n",
        "\n",
        "# < YOUR CODE"
      ]
    }
  ],
  "metadata": {
    "colab": {
      "gpuType": "T4",
      "provenance": []
    },
    "kernelspec": {
      "display_name": "Python 3",
      "name": "python3"
    },
    "language_info": {
      "name": "python"
    }
  },
  "nbformat": 4,
  "nbformat_minor": 0
}
