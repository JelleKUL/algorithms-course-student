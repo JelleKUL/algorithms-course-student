{
  "cells": [
    {
      "cell_type": "markdown",
      "metadata": {
        "id": "jp1uoCRNfhRX"
      },
      "source": [
        "# Chapter 4: Data Processing\n",
        "In dit hoofdstuk behandelen we enkele mogelijkheden die Python biedt om data in verschillende formaten in te laden, te behandelen en te exporteren. Als je de concepten en oefeningen in dit hoofdstuk goed beheerst, geeft je dit een vliegende start bij je masterproef."
      ]
    },
    {
      "cell_type": "code",
      "execution_count": null,
      "metadata": {
        "id": "IFA_tSr3fhRa"
      },
      "outputs": [],
      "source": [
        "import pandas as pd\n",
        "import numpy as np"
      ]
    },
    {
      "cell_type": "markdown",
      "metadata": {
        "id": "qTFE0c4mfhRc"
      },
      "source": [
        "## 4.1 Import files\n",
        "Python beschikt over functionaliteit die toelaat verschillende bestandstypes in te lezen. Dat is handig voor binaire en soms beschermde formaten, waarvan de specificaties niet publiek gekend zijn. In vele gevallen komen we ASCII\\footnote{ASCII, American Standard Code for Information Interchange, is een character encoding standaard voor elektronische communicatie.} data tegen die in welbepaalde vorm weggeschreven wordt. Er bestaan verschillende mogelijkheden om ook met die data om te gaan. In deze paragraaf bespreken we enkele specifieke formaten en mogelijkheden."
      ]
    },
    {
      "cell_type": "markdown",
      "metadata": {
        "id": "pvOVoewGfhRc"
      },
      "source": [
        "### 4.1.1 Oefening Importeren Data\n",
        "- Bekijk het bestand `examenresultaten.txt`. Wat merk je op?\n",
        "- Laad het bestand in Python via `pandas.read_csv()`\n",
        "- Bepaal het gemiddelde van de punten in het bestand *(antwoord: 12.74)*."
      ]
    },
    {
      "cell_type": "code",
      "execution_count": null,
      "metadata": {
        "colab": {
          "base_uri": "https://localhost:8080/"
        },
        "id": "To8GrRXqfhRc",
        "outputId": "8a7bc5d3-1e75-4018-829c-beeacefccf0a"
      },
      "outputs": [
        {
          "name": "stdout",
          "output_type": "stream",
          "text": [
            "12.74\n"
          ]
        }
      ],
      "source": [
        "examenResults = pd.read_csv(\"examenresultaten.txt\", sep=\",\",header=None)"
      ]
    },
    {
      "cell_type": "markdown",
      "metadata": {},
      "source": [
        "#### Bereken het gemiddelde"
      ]
    },
    {
      "cell_type": "code",
      "execution_count": null,
      "metadata": {},
      "outputs": [],
      "source": [
        "# Your code here"
      ]
    },
    {
      "cell_type": "markdown",
      "metadata": {
        "id": "0YIlLkF0fhRc"
      },
      "source": [
        "### 4.1.2 Excel Files\n",
        "Naast veelgebruikte txt formaten kan Python ook overweg met MS-Office formaten, zoals Excel. Gebruik hiervoor de `pandas.read_excel()` functie.\n",
        "- Bekijk het bestand `variatie.xlsx`. Het bevat de variatie van de positie van een punt in de tijd. De eerste sheet geeft XYZ coördinaten per dag, de tweede elke 4 uur.\n",
        "- Laad het bestand met de `pandas.read_excel()` functie.\n",
        "- Bekijk het aantal rijen in de numerieke en in de tekstuele variabelen. Waarom is er een verschil?\n",
        "- Bepaal (in Python!) de XYZ coördinaat op tijdstip `15/02/2019 21:01:00` *(antwoord: 776.1537807\t590.0451072\t104.5359614)*.\n",
        "    > Hint: je kan `==` gebruiken om de gelijkenis tussen een waarde en een string in een cell array te bepalen.\n",
        "- Bekijk de functies `pandas.to_datetime()` om de data van kolom `Datumtijd` om te zetten naar een Pandas `datetime` object.\n",
        "- Bepaal het gemiddelde van de Y-coördinaat tussen `25/01/2019 13:01:00` en `03/02/2019 09:01:00` *(antwoord: 516.833)*."
      ]
    },
    {
      "cell_type": "code",
      "execution_count": null,
      "metadata": {
        "id": "fbCyMj_RfhRd"
      },
      "outputs": [],
      "source": [
        "dataframe1 = pd.read_excel('variatie.xlsx',sheet_name='Sheet1')\n",
        "dataframe2 = pd.read_excel('variatie.xlsx',sheet_name='Sheet2')"
      ]
    },
    {
      "cell_type": "code",
      "execution_count": null,
      "metadata": {},
      "outputs": [],
      "source": [
        "# Your code here"
      ]
    },
    {
      "cell_type": "markdown",
      "metadata": {
        "id": "Pv7gZAkifhRd"
      },
      "source": [
        "## 4.2 Export Files"
      ]
    },
    {
      "cell_type": "markdown",
      "metadata": {
        "id": "UN_eqrpyfhRd"
      },
      "source": [
        "### 4.2.1 MAT, ASCII, XLS Files\n",
        "Analoog aan het inlezen, biedt Python ook de mogelijkheid om bestanden op te slaan of te exporteren in verschillende formaten, inclusief ASCII. Gebruik daartoe de functie  \n",
        "\n",
        "```py\n",
        "with open('\"filename\".txt', 'w') as f:\n",
        "    # your code here\n",
        "```\n",
        "Exporteren naar excel tenslotte, gebeurt a.d.h.v. `pandas.DataFrame.to_excel()`, analoog aan de read functie."
      ]
    },
    {
      "cell_type": "code",
      "execution_count": null,
      "metadata": {
        "id": "EmzccApSfhRd"
      },
      "outputs": [],
      "source": [
        "# your code here"
      ]
    },
    {
      "cell_type": "markdown",
      "metadata": {
        "id": "yjjPZvTHfhRd"
      },
      "source": [
        "### 5.2.2 Determine the format yourself\n",
        "De functie `print('%0x' %(value))` laat toe om een string aan te maken *(sprintf)* of te schrijven naar file *(fprintf)*, gebruik makend van specifieke formatteringsregels. Een belangrijke mogelijkheid is om het aantal cijfers in een getal te bepalen, zowel na de komma (i.e. nauwkeurigheid) als vooraan (i.e. leading zeros).\n",
        "\n",
        "| type    | command | workings | example |  \n",
        "|---------|---------| -------  | ------- |\n",
        "| integer | %0xd    | x leading zeros | `%03d`: 123 -> 123, 18 -> 018, 1234 -> 1234   |\n",
        "| float   | %0x.yf  | y cijfers na de komma | `%010.3f`: 12345.6 -> 012345.600, 18 -> 000018.000, 15.7386 -> 000015.739 |"
      ]
    },
    {
      "cell_type": "code",
      "execution_count": null,
      "metadata": {
        "id": "SlezkCMLfhRe"
      },
      "outputs": [],
      "source": [
        "# your code here"
      ]
    },
    {
      "cell_type": "markdown",
      "metadata": {
        "id": "FbfH4vBtfhRe"
      },
      "source": [
        "### 4.2.3 Resizing a file\n",
        "- Bekijk het bestand `formatdata.txt`. Het bevat volgende elementen:\n",
        "    - Datum\n",
        "    - Tijdstip\n",
        "    - 3D coördinaten (welk coördinatensysteem is dit?)\n",
        "    - 3 hoeken (roll, pitch, yaw)\n",
        "    - temperatuur in Celsius\n",
        "- Laad het bestand met de functie `pd.read_csv`.\n",
        "- Open een nieuwe (output) bestand `reformatdata.txt`.\n",
        "- Schrijf nu elke lijn van het oorspronkelijke bestand weg in een nieuw formaat waarbij elke lijn er als volgt uitziet:\\\n",
        "    `JJJJ/MM/DD hh:mm:ss [X Y Z r p y] T hot \\n` \\\n",
        "    met `n` het commando voor een newline.\\\n",
        "\n",
        "| code | meaning |\n",
        "|------|---------|\n",
        "| JJJJ | jaartal in 4 cijfers |\n",
        "| MM | maand in 2 cijfers |\n",
        "| DD | dag in 2 cijfers |\n",
        "| hh | uur in 2 cijfers |\n",
        "| mm | minuten in 2 cijfers |\n",
        "| ss | seconden in 2 cijfers |\n",
        "| | |\n",
        "| X,Y | co\\\"ordinaten met 6 cijfers voor de komma en 3 cijfers na de komma |\n",
        "| Z | co\\\"ordinaat met 2 cijfers voor de komma en 3 cijfers na de komma |\n",
        "| r,p,y | hoeken met 3 cijfers voor de komma en 6 cijfers na de komma |\n",
        "| | |\n",
        "| T | temperatuur in Kelvin |\n",
        "| hot | 1 als ($t>20$), 0 als ($t\\leq 20$) |\n",
        "\n",
        "\n",
        "> Hint 1: Gebruik `pandas.to_datetime` om van een string met datum en tijd de onderdelen te bepalen.\n",
        "\n",
        "> Hint 2: Gebruik het commando `str(value1) + \" \" + str(value2)` om twee strings a en b aan elkaar te plakken met een spatie ertussen.\n",
        "\n",
        "> Hint 3: Roep de waardes op van een dataframe via `\"YOURdataframe\".values[]`\n",
        "\n",
        "De twee eerste lijnen van het resultaat zien er als volgt uit: \\\n",
        "2019/03/01 08:23:43 [196740.816 106432.350 07.077 155.505623 085.737324 059.231583] 290.0 0 \\\n",
        "2019/03/01 08:26:45 [193098.182 106446.100 10.230 147.477957 086.989035 142.074938] 295.6 1 \\\n"
      ]
    },
    {
      "cell_type": "code",
      "execution_count": null,
      "metadata": {
        "id": "HAXjf8H8fhRe"
      },
      "outputs": [],
      "source": [
        "# your code here"
      ]
    },
    {
      "cell_type": "markdown",
      "metadata": {
        "id": "V_80R7EmfhRe"
      },
      "source": [
        "## 4.3 Download External Data\n",
        "Uiteraard zijn bestanden (files) de meest voorkomende manier van data-uitwisseling. In professionele omgevingen wordt er echter ook regelmatig met externe bestanden gewerkt. Python beschikt (of wat had je gedacht?) over functionaliteit om externe bestanden binnen te halen en er operaties op uit te voeren. Afhankelijk van de permissies kunnen dit zowel lees- als schrijfoperaties zijn."
      ]
    },
    {
      "cell_type": "markdown",
      "metadata": {
        "id": "8ymCmoIQfhRe"
      },
      "source": [
        "### 5.3.3 Download online files\n",
        "In onderstaand voorbeeld downloaden we het bestand en plotten we de buitentemperatuur over de tijd."
      ]
    },
    {
      "cell_type": "code",
      "execution_count": null,
      "metadata": {
        "colab": {
          "base_uri": "https://localhost:8080/"
        },
        "id": "ODQjpt49fhRf",
        "outputId": "30bb3099-6387-4656-ec47-15e124afc0fd"
      },
      "outputs": [],
      "source": [
        "# download and visualize weather data\n",
        "!wget https://raw.github.com/JelleKUL/algorithms-course-student//master/chapter5/weather_data.xlsx"
      ]
    },
    {
      "cell_type": "code",
      "execution_count": null,
      "metadata": {
        "id": "pC_BjQIfp_iF"
      },
      "outputs": [],
      "source": [
        "# read downloaded data with pandas\n",
        "pd_weather_data = pd.read_excel('/content/weather_data.xlsx')"
      ]
    },
    {
      "cell_type": "code",
      "execution_count": null,
      "metadata": {
        "colab": {
          "base_uri": "https://localhost:8080/",
          "height": 449
        },
        "id": "uNhVMJaDwKSq",
        "outputId": "af12dc2e-026c-4b1c-c046-4825b5af65cb"
      },
      "outputs": [
        {
          "data": {
            "image/png": "[encoded data removed]",
            "text/plain": [
              "<Figure size 640x480 with 1 Axes>"
            ]
          },
          "metadata": {},
          "output_type": "display_data"
        }
      ],
      "source": [
        "#plot info\n",
        "pd_weather_data.plot(kind='line',x='TimesTamp',y='outdoortemperature',color='red')\n",
        "pd_weather_data.set_index('TimesTamp', inplace = True)"
      ]
    },
    {
      "cell_type": "markdown",
      "metadata": {
        "id": "LolUwacjfhRf"
      },
      "source": [
        "## 4.4 Heat recovery Efficiency\n",
        "De meeste luchtgroepen systeem D (mechanische toevoer en mechanische afvoer) worden voorzien van warmterecuperatie. Uit de afvoerlucht kan een aanzienlijke hoeveelheid warmte worden onttrokken en toegevoegd aan de verse toevoerlucht. Op deze manier kunnen de ventilatieverliezen met 70 tot 90\\% teruggedrongen worden.\n",
        "\n",
        "Voor het indienen van de EPB-aangifte is een correcte waarde nodig van het rendement van het warmteterugwinapparaat. Dit rendement wordt bepaald volgens bijlage G van bijlage V van het Energiebesluit van 19 november 2010.  Hierbij wordt er een testrapport opgesteld als bewijs van het rendement.\n",
        "\n",
        "De luchtgroep van de nieuwe leslokalen E120 en E220 heeft een warmtewisselaar in kruisstroom. Dit is het principe waarbij de warmteoverdracht plaatsvindt tussen 2 media die elk langs een zijde van een luchtdichte scheidingswand in een verschillende richting stromen. Het thermisch rendement van de warmtewisselaar wordt specifiek berekend a.d.h.v. Bijlage XI bij het ministerieel besluit van 2 april 2007. Het rendement wordt gegeven door vergelijking:\n",
        "\n",
        "$$\n",
        "\\eta_{hx,test} = \\frac{\\eta_{hx,test,sup}+ \\eta_{hx,test,eha}}{2}\\nonumber\\\\[2ex]\n",
        "\\eta_{hx,test,sup} = \\frac{t_{22}-t_{21}}{t_{11}-t_{21}}\\nonumber\\\\[2ex]\n",
        "\\eta_{hx,test,eha} = \\frac{t_{11}-t_{12}}{t_{11}-t_{21}}\n",
        "$$\n",
        "waarbij $t_{ij}$ gedefineerd is in tabel:\n",
        "\n",
        "| Parameter | Betekenis | Eenheid | Formule |\n",
        "| --------- | --------- | ------- | ------- |\n",
        "| ra_temp_mixed_after_fan | Temperatuur van de afgevoerde lucht van de lokalen| °C | $t_{11}$|\n",
        "| sa_temp_after_rec | Temperatuur van de toegevoerde lucht in de lokalen | °C | $t_{22}$|\n",
        "| oa_temp_external | Temperatuur van de buitenlucht die in de luchtgroep gezogen wordt | °C | $t_{21}$|\n",
        "| ea_temp | Temperatuur van de lucht die uit de luchtgroep geblazen wordt | °C| $t_{12}$|\n",
        "| position_oa_damper | Stand van de buitenluchtklep | \\% | 17|\n",
        "| position_ea_damper | Stand van de uitgeblazen luchtklep | \\% | 18|\n",
        "| position_oa_damper_bypass | Stand van de bypass buitenluchtklep | \\% | 20|\n",
        "| position_ea_damper_bypass | Stand van de bypass uitgeblazen luchtklep | \\% | 21|\n",
        "| sa_volume_flow | Toevoerdebiet in de lokalen | $m^3/h$ | |\n",
        "| ra_volume_flow | Afvoerdebiet in de lokalen | $m^3/h$ | |\n",
        "\n",
        "De positie van de temperatuursensoren is af te leiden van het schema van de luchtgroep. Deze is te vinden in figuur:\n",
        "\n",
        "![image](luchtgroep.png)\n",
        "\n",
        "In wat volgt, zal je zelf data van de luchtgroep analyseren en verwerken. Aan de hand van een aangereikte berekeningsmethode zal de data gebruikt worden om het rendement van de warmteterugwinning te berekenen. Dit rendement zal vervolgens beoordeeld worden."
      ]
    },
    {
      "cell_type": "markdown",
      "metadata": {
        "id": "NNBG9wanwivA"
      },
      "source": [
        "### 4.4.1 Exercise\n",
        "\n",
        "- Verwerk de data afkomstig van de leslokalen E120 en E220 uit het bestand `bacnet_data.xlsx`, voor twee volledige dagen. Selecteer data van twee verschillende, relevante dagen tijdens het academiejaar. Aan de hand van het schema kan je de respectievelijke temperaturen en kleppen afleiden.\n",
        "- Zorg ervoor dat je enkel data gebruikt die voldoet aan volgende voorwaarden:\n",
        "    - Enkel data gebruiken tijdens de kantooruren (TimeStamp tussen 7u30 en 17u30)\n",
        "    - Beide leslokalen dienen in gebruik te zijn (d.w.z. ofwel aanwezigheid van personen of actieve verwarming). Dit wordt gecheckt aan de hand van het volume van de toe- en afvoerlucht. SA_volume_flow en RA_volume_flow $> 2500 m^3/h$.\n",
        "    - Alle inkomende lucht dient langs de warmtewisselaar te gaan. Bij warmere periodes is de buitenlucht reeds warm genoeg en wordt deze gebypassed (en indien nodig zelfs gekoeld). Dit controleren we aan de hand van de klepstanden:\n",
        "position_oa_damper en position_ea_damper dienen beiden op 100 te staan (volledig open) EN op hetzelfde moment moeten postion_oa_damper_bypass en position_ea_damper_bypass op 0 staan (volledig toe).\n",
        "- Bereken het rendement van de warmtewisselaar doorheen de dag. Bepaal de mediaan en het `25%` en `75%` percentiel. Hoe kan je de verschillende waarden van het rendement koppelen aan de stand van de kleppen?\n",
        "- Beoordeel de bekomen rendementen en vergelijk met de waarde volgens onderstaande tabel\n",
        "\n",
        "| Klasse |\t$\\mathbf{\\Delta p_{HRS}}$  [Pa]\t| $\\mathbf{\\eta}$ min [%] |\n",
        "|------- | --- | --- |\n",
        "| H1 |\t2 x 280\t| 75 |\n",
        "| H2 |\t2 x 230\t| 67 |\n",
        "| H3 |\t2 x 170\t| 57 |\n",
        "| H4 |\t2 x 125\t| 47 |\n",
        "| H5 |\t2 x 100\t| 37 |"
      ]
    },
    {
      "cell_type": "markdown",
      "metadata": {},
      "source": [
        "### Download the data"
      ]
    },
    {
      "cell_type": "code",
      "execution_count": null,
      "metadata": {
        "colab": {
          "base_uri": "https://localhost:8080/"
        },
        "id": "iNY2Irp1wtbG",
        "outputId": "f4c71974-3b81-42ae-b120-b4238b1ddf29"
      },
      "outputs": [],
      "source": [
        "!wget https://raw.github.com/JelleKUL/algorithms-course-student//master/chapter5/bacnet_data.xlsx"
      ]
    },
    {
      "cell_type": "code",
      "execution_count": null,
      "metadata": {
        "id": "8R9HzqvGw1eY"
      },
      "outputs": [],
      "source": [
        "pd_bacnet_data = pd.read_excel('/content/bacnet_data.xlsx')\n",
        "print(pd_bacnet_data)"
      ]
    },
    {
      "cell_type": "markdown",
      "metadata": {},
      "source": [
        "### Data subselection"
      ]
    },
    {
      "cell_type": "code",
      "execution_count": null,
      "metadata": {},
      "outputs": [],
      "source": [
        "# your code here"
      ]
    },
    {
      "cell_type": "markdown",
      "metadata": {},
      "source": [
        "### Calculate efficiency"
      ]
    },
    {
      "cell_type": "code",
      "execution_count": null,
      "metadata": {},
      "outputs": [],
      "source": [
        "# your code here"
      ]
    },
    {
      "cell_type": "markdown",
      "metadata": {},
      "source": [
        "### Determine class"
      ]
    },
    {
      "cell_type": "markdown",
      "metadata": {},
      "source": []
    }
  ],
  "metadata": {
    "colab": {
      "provenance": []
    },
    "kernelspec": {
      "display_name": "Python 3.9.13 ('env': venv)",
      "language": "python",
      "name": "python3"
    },
    "language_info": {
      "name": "python",
      "version": "3.9.13"
    },
    "orig_nbformat": 4,
    "vscode": {
      "interpreter": {
        "hash": "40df3ce17f7a2be7ee95f14117d7040bea1e206826753b0696b3b0689e40e831"
      }
    }
  },
  "nbformat": 4,
  "nbformat_minor": 0
}
